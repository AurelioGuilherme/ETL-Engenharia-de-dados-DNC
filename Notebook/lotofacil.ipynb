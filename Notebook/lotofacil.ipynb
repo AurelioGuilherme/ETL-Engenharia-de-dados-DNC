{
 "cells": [
  {
   "cell_type": "markdown",
   "metadata": {},
   "source": [
    "#  CASE ENGENHEIRO DE DADOS JR - ESCOLA DNC 🚀"
   ]
  },
  {
   "cell_type": "markdown",
   "metadata": {},
   "source": [
    "O notebook foi desenvolvido para a resolução do case técnico para a vaga de Engenheiro de dados Jr da Escola DNC.\n",
    "\n",
    "* [Notion](https://dncgroupbr.notion.site/Engenheiro-a-de-Dados-Jr-7c864f99568745d393069004e8954eb3)\n",
    "* [Github](https://github.com/AurelioGuilherme/ETL-Engenharia-de-dados-DNC)"
   ]
  },
  {
   "cell_type": "markdown",
   "metadata": {},
   "source": [
    "O objetivo desse desafio é avaliar as habilidades técnicas e a capacidade de resolução de problemas. \n",
    "\n",
    "\n",
    "##  Contexto 🧠\n",
    "\n",
    "A PotatoCore é uma empresa que lida com dados da Lotofácil, um jogo de loteria popular no Brasil. Atualmente, os dados são fornecidos em uma planilha de Excel e precisam ser processados e preparados para análise. Como Engenheiro de Dados, sua missão é otimizar o processo ETL (Extração, Transformação e Carregamento) para facilitar a obtenção de insights a partir desses dados.\n",
    "\n",
    "O processo atual de ETL é manual e consome muito tempo. Além disso, pode haver inconsistências nos dados devido à natureza manual do processo. O objetivo é criar um pipeline automatizado que permita a extração, transformação e carregamento eficientes dos dados da Lotofácil para facilitar a análise."
   ]
  },
  {
   "cell_type": "markdown",
   "metadata": {},
   "source": [
    "## 0 - Import Libs 📚 \n"
   ]
  },
  {
   "cell_type": "code",
   "execution_count": 40,
   "metadata": {},
   "outputs": [],
   "source": [
    "import pandas as pd\n",
    "import os\n",
    "from ipywidgets import interact\n",
    "from aux_functions import *\n",
    "import sqlite3\n",
    "# Defini os parâmetros internos do Pandas para visulizar todas as colunas do DataFrame \n",
    "pd.set_option('display.max_columns', None)"
   ]
  },
  {
   "cell_type": "markdown",
   "metadata": {},
   "source": [
    "## 1 - Read data"
   ]
  },
  {
   "cell_type": "markdown",
   "metadata": {},
   "source": [
    "Nesta etapa sera efetuada a leitura dos dados"
   ]
  },
  {
   "cell_type": "code",
   "execution_count": 41,
   "metadata": {},
   "outputs": [
    {
     "name": "stdout",
     "output_type": "stream",
     "text": [
      "Leitura do arquivo 'Lotofacil.xlsx' concluída com sucesso\n"
     ]
    }
   ],
   "source": [
    "df = carregar_dados_xlsx()"
   ]
  },
  {
   "cell_type": "markdown",
   "metadata": {},
   "source": [
    "## 2 - Data understand 📝"
   ]
  },
  {
   "cell_type": "markdown",
   "metadata": {},
   "source": [
    "O conjunto de dados possui as informações do histórico de jogos da Lotofácil contendo as seguintes colunas:"
   ]
  },
  {
   "cell_type": "markdown",
   "metadata": {},
   "source": [
    "|  COLUNA                                              |             DEFINIÇÃO                          |  TIPO  |\n",
    "|:----------------------------------------------------:|:----------------------------------------------:|:------:|\n",
    "| Concurso                                             | Identificação unica do concurso                | int64  |\n",
    "| Data Sorteio                                         | Data de sorteio do concurso                    | Object |\n",
    "| Bola1                                                | Resultado da primeira bola sorteada            | int64  |\n",
    "| Bola2                                                | Resultado da segunda bola sorteada             | int64  |\n",
    "| Bola3                                                | Resultado da terceira bola sorteada            | int64  |\n",
    "| Bola4                                                | Resultado da quarta bola sorteada              | int64  |\n",
    "| Bola5                                                | Resultado da quinta bola sorteada              | int64  |\n",
    "| Bola6                                                | Resultado da sexta bola sorteada               | int64  |\n",
    "| Bola7                                                | Resultado da setima bola sorteada              | int64  |\n",
    "| Bola8                                                | Resultado da oitava bola sorteada              | int64  |\n",
    "| Bola9                                                | Resultado da nona bola sorteada                | int64  |\n",
    "| Bola10                                               | Resultado da decima bola sorteada              | int64  |\n",
    "| Bola11                                               | Resultado da decima primeira bola sorteada     | int64  |\n",
    "| Bola12                                               | Resultado da decima seguda bola sorteada       | int64  |\n",
    "| Bola13                                               | Resultado da decima terceira bola sorteada     | int64  |\n",
    "| Bola14                                               | Resultado da decima quarta bola sorteada       | int64  |\n",
    "| Bola15                                               | Resultado da decima quinta bola sorteada       | int64  |\n",
    "| Ganhadores 15 acertos                                | Quantidade de jogadores que acertaram 15 bolas | int64  |\n",
    "| Cidade / UF                                          | Cidade(es) e estado(os) dos ganhadores         | Object |\n",
    "| Rateio 15 acertos                                    | Valor do premio por aposta vencedora: 15 Bolas | Object |\n",
    "| Ganhadores 14 acertos                                | Quantidade de jogadores que acertaram 14 bolas | int64  |\n",
    "| Rateio 14 acertos                                    | Valor do premio por aposta vencedora: 14 Bolas | Object |\n",
    "| Ganhadores 13 acertos                                | Quantidade de jogadores que acertaram 13 bolas | int64  |\n",
    "| Rateio 13 acertos                                    | Valor do premio por aposta vencedora: 13 Bolas | Object |\n",
    "| Ganhadores 12 acertos                                | Quantidade de jogadores que acertaram 12 bolas | int64  |\n",
    "| Rateio 12 acertos                                    | Valor do premio por aposta vencedora: 12 Bolas | Object |\n",
    "| Ganhadores 11 acertos                                | Quantidade de jogadores que acertaram 11 bolas | int64  |\n",
    "| Rateio 11 acertos                                    | Valor do premio por aposta vencedora: 11 Bolas | Object |\n",
    "| Acumulado 15 acertos                                 | Valor acumulado para o próximo sorteio         | Object |\n",
    "| Arrecadacao Total                                    | Valor total arrecadado                         | Object |\n",
    "| Estimativa Prêmio                                    | Valor estimado do prêmio                       | Object |\n",
    "| Acumulado sorteio especial Lotofácil da Independência| Valor acumulado para o sorteio da Lotofácio da Independencia | Object|\n",
    "| Observação                                           | Observações adicionais sobre o sorteio         | Object |\n",
    "\n",
    "\n",
    "\n"
   ]
  },
  {
   "cell_type": "markdown",
   "metadata": {},
   "source": [
    "### 2.1 Análise primária\n"
   ]
  },
  {
   "cell_type": "markdown",
   "metadata": {},
   "source": [
    "Nesta etapa será feita a análise primária da qualidade do conjunto de dados fornecidos"
   ]
  },
  {
   "cell_type": "code",
   "execution_count": 42,
   "metadata": {},
   "outputs": [
    {
     "name": "stdout",
     "output_type": "stream",
     "text": [
      "O conjunto de dados possui:\n",
      "2894 linhas e 33 colunas\n"
     ]
    },
    {
     "data": {
      "text/html": [
       "<div>\n",
       "<style scoped>\n",
       "    .dataframe tbody tr th:only-of-type {\n",
       "        vertical-align: middle;\n",
       "    }\n",
       "\n",
       "    .dataframe tbody tr th {\n",
       "        vertical-align: top;\n",
       "    }\n",
       "\n",
       "    .dataframe thead th {\n",
       "        text-align: right;\n",
       "    }\n",
       "</style>\n",
       "<table border=\"1\" class=\"dataframe\">\n",
       "  <thead>\n",
       "    <tr style=\"text-align: right;\">\n",
       "      <th></th>\n",
       "      <th>Concurso</th>\n",
       "      <th>Data Sorteio</th>\n",
       "      <th>Bola1</th>\n",
       "      <th>Bola2</th>\n",
       "      <th>Bola3</th>\n",
       "      <th>Bola4</th>\n",
       "      <th>Bola5</th>\n",
       "      <th>Bola6</th>\n",
       "      <th>Bola7</th>\n",
       "      <th>Bola8</th>\n",
       "      <th>Bola9</th>\n",
       "      <th>Bola10</th>\n",
       "      <th>Bola11</th>\n",
       "      <th>Bola12</th>\n",
       "      <th>Bola13</th>\n",
       "      <th>Bola14</th>\n",
       "      <th>Bola15</th>\n",
       "      <th>Ganhadores 15 acertos</th>\n",
       "      <th>Cidade / UF</th>\n",
       "      <th>Rateio 15 acertos</th>\n",
       "      <th>Ganhadores 14 acertos</th>\n",
       "      <th>Rateio 14 acertos</th>\n",
       "      <th>Ganhadores 13 acertos</th>\n",
       "      <th>Rateio 13 acertos</th>\n",
       "      <th>Ganhadores 12 acertos</th>\n",
       "      <th>Rateio 12 acertos</th>\n",
       "      <th>Ganhadores 11 acertos</th>\n",
       "      <th>Rateio 11 acertos</th>\n",
       "      <th>Acumulado 15 acertos</th>\n",
       "      <th>Arrecadacao Total</th>\n",
       "      <th>Estimativa Prêmio</th>\n",
       "      <th>Acumulado sorteio especial Lotofácil da Independência</th>\n",
       "      <th>Observação</th>\n",
       "    </tr>\n",
       "  </thead>\n",
       "  <tbody>\n",
       "    <tr>\n",
       "      <th>0</th>\n",
       "      <td>1</td>\n",
       "      <td>29/09/2003</td>\n",
       "      <td>2</td>\n",
       "      <td>3</td>\n",
       "      <td>5</td>\n",
       "      <td>6</td>\n",
       "      <td>9</td>\n",
       "      <td>10</td>\n",
       "      <td>11</td>\n",
       "      <td>13</td>\n",
       "      <td>14</td>\n",
       "      <td>16</td>\n",
       "      <td>18</td>\n",
       "      <td>20</td>\n",
       "      <td>23</td>\n",
       "      <td>24</td>\n",
       "      <td>25</td>\n",
       "      <td>5</td>\n",
       "      <td>BA; \\nPR; \\nSP</td>\n",
       "      <td>R$49.765,82</td>\n",
       "      <td>154</td>\n",
       "      <td>R$689,84</td>\n",
       "      <td>4645</td>\n",
       "      <td>R$10,00</td>\n",
       "      <td>48807</td>\n",
       "      <td>R$4,00</td>\n",
       "      <td>257593</td>\n",
       "      <td>R$2,00</td>\n",
       "      <td>R$0,00</td>\n",
       "      <td>R$0,00</td>\n",
       "      <td>R$0,00</td>\n",
       "      <td>R$0,00</td>\n",
       "      <td>Estimativa de prêmio (15 ACERTOS) próximo conc...</td>\n",
       "    </tr>\n",
       "    <tr>\n",
       "      <th>1</th>\n",
       "      <td>2</td>\n",
       "      <td>06/10/2003</td>\n",
       "      <td>1</td>\n",
       "      <td>4</td>\n",
       "      <td>5</td>\n",
       "      <td>6</td>\n",
       "      <td>7</td>\n",
       "      <td>9</td>\n",
       "      <td>11</td>\n",
       "      <td>12</td>\n",
       "      <td>13</td>\n",
       "      <td>15</td>\n",
       "      <td>16</td>\n",
       "      <td>19</td>\n",
       "      <td>20</td>\n",
       "      <td>23</td>\n",
       "      <td>24</td>\n",
       "      <td>1</td>\n",
       "      <td>SP</td>\n",
       "      <td>R$596.323,70</td>\n",
       "      <td>184</td>\n",
       "      <td>R$1.388,95</td>\n",
       "      <td>6232</td>\n",
       "      <td>R$10,00</td>\n",
       "      <td>81252</td>\n",
       "      <td>R$4,00</td>\n",
       "      <td>478188</td>\n",
       "      <td>R$2,00</td>\n",
       "      <td>R$0,00</td>\n",
       "      <td>R$0,00</td>\n",
       "      <td>R$0,00</td>\n",
       "      <td>R$0,00</td>\n",
       "      <td>ESTIMATIVA DE PRÊMIO PARA O PRÓXIMO CONCURSO (...</td>\n",
       "    </tr>\n",
       "    <tr>\n",
       "      <th>2</th>\n",
       "      <td>3</td>\n",
       "      <td>13/10/2003</td>\n",
       "      <td>1</td>\n",
       "      <td>4</td>\n",
       "      <td>6</td>\n",
       "      <td>7</td>\n",
       "      <td>8</td>\n",
       "      <td>9</td>\n",
       "      <td>10</td>\n",
       "      <td>11</td>\n",
       "      <td>12</td>\n",
       "      <td>14</td>\n",
       "      <td>16</td>\n",
       "      <td>17</td>\n",
       "      <td>20</td>\n",
       "      <td>23</td>\n",
       "      <td>24</td>\n",
       "      <td>2</td>\n",
       "      <td>SP</td>\n",
       "      <td>R$400.623,70</td>\n",
       "      <td>158</td>\n",
       "      <td>R$2.173,36</td>\n",
       "      <td>6897</td>\n",
       "      <td>R$10,00</td>\n",
       "      <td>96244</td>\n",
       "      <td>R$4,00</td>\n",
       "      <td>608211</td>\n",
       "      <td>R$2,00</td>\n",
       "      <td>R$0,00</td>\n",
       "      <td>R$0,00</td>\n",
       "      <td>R$0,00</td>\n",
       "      <td>R$0,00</td>\n",
       "      <td>Estimativa de prêmio (15 ACERTOS) próximo conc...</td>\n",
       "    </tr>\n",
       "    <tr>\n",
       "      <th>3</th>\n",
       "      <td>4</td>\n",
       "      <td>20/10/2003</td>\n",
       "      <td>1</td>\n",
       "      <td>2</td>\n",
       "      <td>4</td>\n",
       "      <td>5</td>\n",
       "      <td>8</td>\n",
       "      <td>10</td>\n",
       "      <td>12</td>\n",
       "      <td>13</td>\n",
       "      <td>16</td>\n",
       "      <td>17</td>\n",
       "      <td>18</td>\n",
       "      <td>19</td>\n",
       "      <td>23</td>\n",
       "      <td>24</td>\n",
       "      <td>25</td>\n",
       "      <td>1</td>\n",
       "      <td>MT</td>\n",
       "      <td>R$902.226,02</td>\n",
       "      <td>258</td>\n",
       "      <td>R$1.498,72</td>\n",
       "      <td>9569</td>\n",
       "      <td>R$10,00</td>\n",
       "      <td>123912</td>\n",
       "      <td>R$4,00</td>\n",
       "      <td>706657</td>\n",
       "      <td>R$2,00</td>\n",
       "      <td>R$0,00</td>\n",
       "      <td>R$0,00</td>\n",
       "      <td>R$0,00</td>\n",
       "      <td>R$0,00</td>\n",
       "      <td>Estimativa de prêmio (15 ACERTOS) próximo conc...</td>\n",
       "    </tr>\n",
       "    <tr>\n",
       "      <th>4</th>\n",
       "      <td>5</td>\n",
       "      <td>27/10/2003</td>\n",
       "      <td>1</td>\n",
       "      <td>2</td>\n",
       "      <td>4</td>\n",
       "      <td>8</td>\n",
       "      <td>9</td>\n",
       "      <td>11</td>\n",
       "      <td>12</td>\n",
       "      <td>13</td>\n",
       "      <td>15</td>\n",
       "      <td>16</td>\n",
       "      <td>19</td>\n",
       "      <td>20</td>\n",
       "      <td>23</td>\n",
       "      <td>24</td>\n",
       "      <td>25</td>\n",
       "      <td>2</td>\n",
       "      <td>BA; \\nMS</td>\n",
       "      <td>R$380.017,55</td>\n",
       "      <td>472</td>\n",
       "      <td>R$687,49</td>\n",
       "      <td>14736</td>\n",
       "      <td>R$10,00</td>\n",
       "      <td>195636</td>\n",
       "      <td>R$4,00</td>\n",
       "      <td>860992</td>\n",
       "      <td>R$2,00</td>\n",
       "      <td>R$0,00</td>\n",
       "      <td>R$0,00</td>\n",
       "      <td>R$0,00</td>\n",
       "      <td>R$0,00</td>\n",
       "      <td>Estimativa de prêmio para o próximo concurso (...</td>\n",
       "    </tr>\n",
       "  </tbody>\n",
       "</table>\n",
       "</div>"
      ],
      "text/plain": [
       "   Concurso Data Sorteio  Bola1  Bola2  Bola3  Bola4  Bola5  Bola6  Bola7  \\\n",
       "0         1   29/09/2003      2      3      5      6      9     10     11   \n",
       "1         2   06/10/2003      1      4      5      6      7      9     11   \n",
       "2         3   13/10/2003      1      4      6      7      8      9     10   \n",
       "3         4   20/10/2003      1      2      4      5      8     10     12   \n",
       "4         5   27/10/2003      1      2      4      8      9     11     12   \n",
       "\n",
       "   Bola8  Bola9  Bola10  Bola11  Bola12  Bola13  Bola14  Bola15  \\\n",
       "0     13     14      16      18      20      23      24      25   \n",
       "1     12     13      15      16      19      20      23      24   \n",
       "2     11     12      14      16      17      20      23      24   \n",
       "3     13     16      17      18      19      23      24      25   \n",
       "4     13     15      16      19      20      23      24      25   \n",
       "\n",
       "   Ganhadores 15 acertos     Cidade / UF Rateio 15 acertos  \\\n",
       "0                      5  BA; \\nPR; \\nSP       R$49.765,82   \n",
       "1                      1              SP      R$596.323,70   \n",
       "2                      2              SP      R$400.623,70   \n",
       "3                      1              MT      R$902.226,02   \n",
       "4                      2        BA; \\nMS      R$380.017,55   \n",
       "\n",
       "   Ganhadores 14 acertos Rateio 14 acertos  Ganhadores 13 acertos  \\\n",
       "0                    154          R$689,84                   4645   \n",
       "1                    184        R$1.388,95                   6232   \n",
       "2                    158        R$2.173,36                   6897   \n",
       "3                    258        R$1.498,72                   9569   \n",
       "4                    472          R$687,49                  14736   \n",
       "\n",
       "  Rateio 13 acertos  Ganhadores 12 acertos Rateio 12 acertos  \\\n",
       "0           R$10,00                  48807            R$4,00   \n",
       "1           R$10,00                  81252            R$4,00   \n",
       "2           R$10,00                  96244            R$4,00   \n",
       "3           R$10,00                 123912            R$4,00   \n",
       "4           R$10,00                 195636            R$4,00   \n",
       "\n",
       "   Ganhadores 11 acertos Rateio 11 acertos Acumulado 15 acertos  \\\n",
       "0                 257593            R$2,00               R$0,00   \n",
       "1                 478188            R$2,00               R$0,00   \n",
       "2                 608211            R$2,00               R$0,00   \n",
       "3                 706657            R$2,00               R$0,00   \n",
       "4                 860992            R$2,00               R$0,00   \n",
       "\n",
       "  Arrecadacao Total Estimativa Prêmio  \\\n",
       "0            R$0,00            R$0,00   \n",
       "1            R$0,00            R$0,00   \n",
       "2            R$0,00            R$0,00   \n",
       "3            R$0,00            R$0,00   \n",
       "4            R$0,00            R$0,00   \n",
       "\n",
       "  Acumulado sorteio especial Lotofácil da Independência  \\\n",
       "0                                             R$0,00      \n",
       "1                                             R$0,00      \n",
       "2                                             R$0,00      \n",
       "3                                             R$0,00      \n",
       "4                                             R$0,00      \n",
       "\n",
       "                                          Observação  \n",
       "0  Estimativa de prêmio (15 ACERTOS) próximo conc...  \n",
       "1  ESTIMATIVA DE PRÊMIO PARA O PRÓXIMO CONCURSO (...  \n",
       "2  Estimativa de prêmio (15 ACERTOS) próximo conc...  \n",
       "3  Estimativa de prêmio (15 ACERTOS) próximo conc...  \n",
       "4  Estimativa de prêmio para o próximo concurso (...  "
      ]
     },
     "execution_count": 42,
     "metadata": {},
     "output_type": "execute_result"
    }
   ],
   "source": [
    "print(f'O conjunto de dados possui:\\n{df.shape[0]} linhas e {df.shape[1]} colunas' )\n",
    "df.head()"
   ]
  },
  {
   "cell_type": "code",
   "execution_count": 43,
   "metadata": {},
   "outputs": [
    {
     "name": "stdout",
     "output_type": "stream",
     "text": [
      "<class 'pandas.core.frame.DataFrame'>\n",
      "RangeIndex: 2894 entries, 0 to 2893\n",
      "Data columns (total 33 columns):\n",
      " #   Column                                                 Non-Null Count  Dtype \n",
      "---  ------                                                 --------------  ----- \n",
      " 0   Concurso                                               2894 non-null   int64 \n",
      " 1   Data Sorteio                                           2894 non-null   object\n",
      " 2   Bola1                                                  2894 non-null   int64 \n",
      " 3   Bola2                                                  2894 non-null   int64 \n",
      " 4   Bola3                                                  2894 non-null   int64 \n",
      " 5   Bola4                                                  2894 non-null   int64 \n",
      " 6   Bola5                                                  2894 non-null   int64 \n",
      " 7   Bola6                                                  2894 non-null   int64 \n",
      " 8   Bola7                                                  2894 non-null   int64 \n",
      " 9   Bola8                                                  2894 non-null   int64 \n",
      " 10  Bola9                                                  2894 non-null   int64 \n",
      " 11  Bola10                                                 2894 non-null   int64 \n",
      " 12  Bola11                                                 2894 non-null   int64 \n",
      " 13  Bola12                                                 2894 non-null   int64 \n",
      " 14  Bola13                                                 2894 non-null   int64 \n",
      " 15  Bola14                                                 2894 non-null   int64 \n",
      " 16  Bola15                                                 2894 non-null   int64 \n",
      " 17  Ganhadores 15 acertos                                  2894 non-null   int64 \n",
      " 18  Cidade / UF                                            2592 non-null   object\n",
      " 19  Rateio 15 acertos                                      2894 non-null   object\n",
      " 20  Ganhadores 14 acertos                                  2894 non-null   int64 \n",
      " 21  Rateio 14 acertos                                      2894 non-null   object\n",
      " 22  Ganhadores 13 acertos                                  2894 non-null   int64 \n",
      " 23  Rateio 13 acertos                                      2894 non-null   object\n",
      " 24  Ganhadores 12 acertos                                  2894 non-null   int64 \n",
      " 25  Rateio 12 acertos                                      2894 non-null   object\n",
      " 26  Ganhadores 11 acertos                                  2894 non-null   int64 \n",
      " 27  Rateio 11 acertos                                      2894 non-null   object\n",
      " 28  Acumulado 15 acertos                                   2894 non-null   object\n",
      " 29  Arrecadacao Total                                      2894 non-null   object\n",
      " 30  Estimativa Prêmio                                      2894 non-null   object\n",
      " 31  Acumulado sorteio especial Lotofácil da Independência  2894 non-null   object\n",
      " 32  Observação                                             778 non-null    object\n",
      "dtypes: int64(21), object(12)\n",
      "memory usage: 746.2+ KB\n"
     ]
    }
   ],
   "source": [
    "df.info()"
   ]
  },
  {
   "cell_type": "code",
   "execution_count": 44,
   "metadata": {},
   "outputs": [
    {
     "data": {
      "text/html": [
       "<div>\n",
       "<style scoped>\n",
       "    .dataframe tbody tr th:only-of-type {\n",
       "        vertical-align: middle;\n",
       "    }\n",
       "\n",
       "    .dataframe tbody tr th {\n",
       "        vertical-align: top;\n",
       "    }\n",
       "\n",
       "    .dataframe thead th {\n",
       "        text-align: right;\n",
       "    }\n",
       "</style>\n",
       "<table border=\"1\" class=\"dataframe\">\n",
       "  <thead>\n",
       "    <tr style=\"text-align: right;\">\n",
       "      <th></th>\n",
       "      <th>count</th>\n",
       "      <th>mean</th>\n",
       "      <th>std</th>\n",
       "      <th>min</th>\n",
       "      <th>25%</th>\n",
       "      <th>50%</th>\n",
       "      <th>75%</th>\n",
       "      <th>max</th>\n",
       "    </tr>\n",
       "  </thead>\n",
       "  <tbody>\n",
       "    <tr>\n",
       "      <th>Concurso</th>\n",
       "      <td>2894.0</td>\n",
       "      <td>1.447500e+03</td>\n",
       "      <td>835.570165</td>\n",
       "      <td>1.0</td>\n",
       "      <td>724.25</td>\n",
       "      <td>1447.5</td>\n",
       "      <td>2170.75</td>\n",
       "      <td>2894.0</td>\n",
       "    </tr>\n",
       "    <tr>\n",
       "      <th>Bola1</th>\n",
       "      <td>2894.0</td>\n",
       "      <td>1.620940e+00</td>\n",
       "      <td>0.925345</td>\n",
       "      <td>1.0</td>\n",
       "      <td>1.00</td>\n",
       "      <td>1.0</td>\n",
       "      <td>2.00</td>\n",
       "      <td>7.0</td>\n",
       "    </tr>\n",
       "    <tr>\n",
       "      <th>Bola2</th>\n",
       "      <td>2894.0</td>\n",
       "      <td>3.252937e+00</td>\n",
       "      <td>1.297029</td>\n",
       "      <td>2.0</td>\n",
       "      <td>2.00</td>\n",
       "      <td>3.0</td>\n",
       "      <td>4.00</td>\n",
       "      <td>9.0</td>\n",
       "    </tr>\n",
       "    <tr>\n",
       "      <th>Bola3</th>\n",
       "      <td>2894.0</td>\n",
       "      <td>4.878715e+00</td>\n",
       "      <td>1.532281</td>\n",
       "      <td>3.0</td>\n",
       "      <td>4.00</td>\n",
       "      <td>5.0</td>\n",
       "      <td>6.00</td>\n",
       "      <td>12.0</td>\n",
       "    </tr>\n",
       "    <tr>\n",
       "      <th>Bola4</th>\n",
       "      <td>2894.0</td>\n",
       "      <td>6.520733e+00</td>\n",
       "      <td>1.710489</td>\n",
       "      <td>4.0</td>\n",
       "      <td>5.00</td>\n",
       "      <td>6.0</td>\n",
       "      <td>8.00</td>\n",
       "      <td>13.0</td>\n",
       "    </tr>\n",
       "    <tr>\n",
       "      <th>Bola5</th>\n",
       "      <td>2894.0</td>\n",
       "      <td>8.154112e+00</td>\n",
       "      <td>1.809953</td>\n",
       "      <td>5.0</td>\n",
       "      <td>7.00</td>\n",
       "      <td>8.0</td>\n",
       "      <td>9.00</td>\n",
       "      <td>14.0</td>\n",
       "    </tr>\n",
       "    <tr>\n",
       "      <th>Bola6</th>\n",
       "      <td>2894.0</td>\n",
       "      <td>9.786800e+00</td>\n",
       "      <td>1.853189</td>\n",
       "      <td>6.0</td>\n",
       "      <td>8.00</td>\n",
       "      <td>10.0</td>\n",
       "      <td>11.00</td>\n",
       "      <td>16.0</td>\n",
       "    </tr>\n",
       "    <tr>\n",
       "      <th>Bola7</th>\n",
       "      <td>2894.0</td>\n",
       "      <td>1.138182e+01</td>\n",
       "      <td>1.888262</td>\n",
       "      <td>7.0</td>\n",
       "      <td>10.00</td>\n",
       "      <td>11.0</td>\n",
       "      <td>13.00</td>\n",
       "      <td>17.0</td>\n",
       "    </tr>\n",
       "    <tr>\n",
       "      <th>Bola8</th>\n",
       "      <td>2894.0</td>\n",
       "      <td>1.300829e+01</td>\n",
       "      <td>1.912157</td>\n",
       "      <td>8.0</td>\n",
       "      <td>12.00</td>\n",
       "      <td>13.0</td>\n",
       "      <td>14.00</td>\n",
       "      <td>18.0</td>\n",
       "    </tr>\n",
       "    <tr>\n",
       "      <th>Bola9</th>\n",
       "      <td>2894.0</td>\n",
       "      <td>1.460781e+01</td>\n",
       "      <td>1.928542</td>\n",
       "      <td>9.0</td>\n",
       "      <td>13.00</td>\n",
       "      <td>15.0</td>\n",
       "      <td>16.00</td>\n",
       "      <td>19.0</td>\n",
       "    </tr>\n",
       "    <tr>\n",
       "      <th>Bola10</th>\n",
       "      <td>2894.0</td>\n",
       "      <td>1.626123e+01</td>\n",
       "      <td>1.880689</td>\n",
       "      <td>10.0</td>\n",
       "      <td>15.00</td>\n",
       "      <td>16.0</td>\n",
       "      <td>18.00</td>\n",
       "      <td>20.0</td>\n",
       "    </tr>\n",
       "    <tr>\n",
       "      <th>Bola11</th>\n",
       "      <td>2894.0</td>\n",
       "      <td>1.791465e+01</td>\n",
       "      <td>1.778420</td>\n",
       "      <td>12.0</td>\n",
       "      <td>17.00</td>\n",
       "      <td>18.0</td>\n",
       "      <td>19.00</td>\n",
       "      <td>21.0</td>\n",
       "    </tr>\n",
       "    <tr>\n",
       "      <th>Bola12</th>\n",
       "      <td>2894.0</td>\n",
       "      <td>1.954907e+01</td>\n",
       "      <td>1.648149</td>\n",
       "      <td>13.0</td>\n",
       "      <td>18.00</td>\n",
       "      <td>20.0</td>\n",
       "      <td>21.00</td>\n",
       "      <td>22.0</td>\n",
       "    </tr>\n",
       "    <tr>\n",
       "      <th>Bola13</th>\n",
       "      <td>2894.0</td>\n",
       "      <td>2.117692e+01</td>\n",
       "      <td>1.480769</td>\n",
       "      <td>15.0</td>\n",
       "      <td>20.00</td>\n",
       "      <td>21.0</td>\n",
       "      <td>22.00</td>\n",
       "      <td>23.0</td>\n",
       "    </tr>\n",
       "    <tr>\n",
       "      <th>Bola14</th>\n",
       "      <td>2894.0</td>\n",
       "      <td>2.278542e+01</td>\n",
       "      <td>1.269677</td>\n",
       "      <td>17.0</td>\n",
       "      <td>22.00</td>\n",
       "      <td>23.0</td>\n",
       "      <td>24.00</td>\n",
       "      <td>24.0</td>\n",
       "    </tr>\n",
       "    <tr>\n",
       "      <th>Bola15</th>\n",
       "      <td>2894.0</td>\n",
       "      <td>2.440221e+01</td>\n",
       "      <td>0.936974</td>\n",
       "      <td>18.0</td>\n",
       "      <td>24.00</td>\n",
       "      <td>25.0</td>\n",
       "      <td>25.00</td>\n",
       "      <td>25.0</td>\n",
       "    </tr>\n",
       "    <tr>\n",
       "      <th>Ganhadores 15 acertos</th>\n",
       "      <td>2894.0</td>\n",
       "      <td>3.547339e+00</td>\n",
       "      <td>5.386321</td>\n",
       "      <td>0.0</td>\n",
       "      <td>1.00</td>\n",
       "      <td>2.0</td>\n",
       "      <td>4.00</td>\n",
       "      <td>103.0</td>\n",
       "    </tr>\n",
       "    <tr>\n",
       "      <th>Ganhadores 14 acertos</th>\n",
       "      <td>2894.0</td>\n",
       "      <td>5.712571e+02</td>\n",
       "      <td>787.336085</td>\n",
       "      <td>115.0</td>\n",
       "      <td>321.00</td>\n",
       "      <td>451.0</td>\n",
       "      <td>623.00</td>\n",
       "      <td>27396.0</td>\n",
       "    </tr>\n",
       "    <tr>\n",
       "      <th>Ganhadores 13 acertos</th>\n",
       "      <td>2894.0</td>\n",
       "      <td>1.799984e+04</td>\n",
       "      <td>15159.418423</td>\n",
       "      <td>4645.0</td>\n",
       "      <td>11914.00</td>\n",
       "      <td>16104.0</td>\n",
       "      <td>20961.00</td>\n",
       "      <td>378406.0</td>\n",
       "    </tr>\n",
       "    <tr>\n",
       "      <th>Ganhadores 12 acertos</th>\n",
       "      <td>2894.0</td>\n",
       "      <td>2.072052e+05</td>\n",
       "      <td>165735.780433</td>\n",
       "      <td>48807.0</td>\n",
       "      <td>146624.00</td>\n",
       "      <td>199137.0</td>\n",
       "      <td>241716.00</td>\n",
       "      <td>4292807.0</td>\n",
       "    </tr>\n",
       "    <tr>\n",
       "      <th>Ganhadores 11 acertos</th>\n",
       "      <td>2894.0</td>\n",
       "      <td>1.084914e+06</td>\n",
       "      <td>832545.442189</td>\n",
       "      <td>257593.0</td>\n",
       "      <td>780136.50</td>\n",
       "      <td>1068253.5</td>\n",
       "      <td>1265717.50</td>\n",
       "      <td>22099555.0</td>\n",
       "    </tr>\n",
       "  </tbody>\n",
       "</table>\n",
       "</div>"
      ],
      "text/plain": [
       "                        count          mean            std       min  \\\n",
       "Concurso               2894.0  1.447500e+03     835.570165       1.0   \n",
       "Bola1                  2894.0  1.620940e+00       0.925345       1.0   \n",
       "Bola2                  2894.0  3.252937e+00       1.297029       2.0   \n",
       "Bola3                  2894.0  4.878715e+00       1.532281       3.0   \n",
       "Bola4                  2894.0  6.520733e+00       1.710489       4.0   \n",
       "Bola5                  2894.0  8.154112e+00       1.809953       5.0   \n",
       "Bola6                  2894.0  9.786800e+00       1.853189       6.0   \n",
       "Bola7                  2894.0  1.138182e+01       1.888262       7.0   \n",
       "Bola8                  2894.0  1.300829e+01       1.912157       8.0   \n",
       "Bola9                  2894.0  1.460781e+01       1.928542       9.0   \n",
       "Bola10                 2894.0  1.626123e+01       1.880689      10.0   \n",
       "Bola11                 2894.0  1.791465e+01       1.778420      12.0   \n",
       "Bola12                 2894.0  1.954907e+01       1.648149      13.0   \n",
       "Bola13                 2894.0  2.117692e+01       1.480769      15.0   \n",
       "Bola14                 2894.0  2.278542e+01       1.269677      17.0   \n",
       "Bola15                 2894.0  2.440221e+01       0.936974      18.0   \n",
       "Ganhadores 15 acertos  2894.0  3.547339e+00       5.386321       0.0   \n",
       "Ganhadores 14 acertos  2894.0  5.712571e+02     787.336085     115.0   \n",
       "Ganhadores 13 acertos  2894.0  1.799984e+04   15159.418423    4645.0   \n",
       "Ganhadores 12 acertos  2894.0  2.072052e+05  165735.780433   48807.0   \n",
       "Ganhadores 11 acertos  2894.0  1.084914e+06  832545.442189  257593.0   \n",
       "\n",
       "                             25%        50%         75%         max  \n",
       "Concurso                  724.25     1447.5     2170.75      2894.0  \n",
       "Bola1                       1.00        1.0        2.00         7.0  \n",
       "Bola2                       2.00        3.0        4.00         9.0  \n",
       "Bola3                       4.00        5.0        6.00        12.0  \n",
       "Bola4                       5.00        6.0        8.00        13.0  \n",
       "Bola5                       7.00        8.0        9.00        14.0  \n",
       "Bola6                       8.00       10.0       11.00        16.0  \n",
       "Bola7                      10.00       11.0       13.00        17.0  \n",
       "Bola8                      12.00       13.0       14.00        18.0  \n",
       "Bola9                      13.00       15.0       16.00        19.0  \n",
       "Bola10                     15.00       16.0       18.00        20.0  \n",
       "Bola11                     17.00       18.0       19.00        21.0  \n",
       "Bola12                     18.00       20.0       21.00        22.0  \n",
       "Bola13                     20.00       21.0       22.00        23.0  \n",
       "Bola14                     22.00       23.0       24.00        24.0  \n",
       "Bola15                     24.00       25.0       25.00        25.0  \n",
       "Ganhadores 15 acertos       1.00        2.0        4.00       103.0  \n",
       "Ganhadores 14 acertos     321.00      451.0      623.00     27396.0  \n",
       "Ganhadores 13 acertos   11914.00    16104.0    20961.00    378406.0  \n",
       "Ganhadores 12 acertos  146624.00   199137.0   241716.00   4292807.0  \n",
       "Ganhadores 11 acertos  780136.50  1068253.5  1265717.50  22099555.0  "
      ]
     },
     "execution_count": 44,
     "metadata": {},
     "output_type": "execute_result"
    }
   ],
   "source": [
    "# Analize descritiva\n",
    "df.describe().T"
   ]
  },
  {
   "cell_type": "markdown",
   "metadata": {},
   "source": [
    "**Verificando valores Nulos/ausentes** "
   ]
  },
  {
   "cell_type": "code",
   "execution_count": 45,
   "metadata": {},
   "outputs": [
    {
     "name": "stdout",
     "output_type": "stream",
     "text": [
      "\n",
      "A coluna 'Cidade / UF' possui 302 valores nulos.\n",
      "\n",
      "A coluna 'Observação' possui 2116 valores nulos.\n"
     ]
    }
   ],
   "source": [
    "check_null_values(df,list(df.columns))"
   ]
  },
  {
   "cell_type": "markdown",
   "metadata": {},
   "source": [
    "* Apos utilizar a função `check_null_values` identifiquei que existem duas colunas com valores nulos, é necessário avaliar esses dados nulos para o preenchimento ou remoção."
   ]
  },
  {
   "cell_type": "markdown",
   "metadata": {},
   "source": [
    "**Verificando valores duplicados**"
   ]
  },
  {
   "cell_type": "markdown",
   "metadata": {},
   "source": [
    "* As colunas `Concurso` e `Data Sorteio` são as colunas mais importantes de não posssuirem dados duplicados;\n",
    "* As demais colunas são passiveis de possuirem dados duplicados "
   ]
  },
  {
   "cell_type": "code",
   "execution_count": 46,
   "metadata": {},
   "outputs": [
    {
     "name": "stdout",
     "output_type": "stream",
     "text": [
      "\n",
      "Não há dados duplicados em nenhuma das colunas fornecidas.\n"
     ]
    }
   ],
   "source": [
    "count_duplicates(df,[\"Concurso\",\"Data Sorteio\"])"
   ]
  },
  {
   "cell_type": "markdown",
   "metadata": {},
   "source": [
    "**Verificando o tipo do dado**"
   ]
  },
  {
   "cell_type": "code",
   "execution_count": 47,
   "metadata": {},
   "outputs": [
    {
     "name": "stdout",
     "output_type": "stream",
     "text": [
      "A coluna 'Data Sorteio' não está no tipo de dado desejado (<M8[ns]).\n",
      "A coluna 'Rateio 15 acertos' não está no tipo de dado desejado (float64).\n",
      "A coluna 'Rateio 14 acertos' não está no tipo de dado desejado (float64).\n",
      "A coluna 'Rateio 13 acertos' não está no tipo de dado desejado (float64).\n",
      "A coluna 'Rateio 12 acertos' não está no tipo de dado desejado (float64).\n",
      "A coluna 'Rateio 11 acertos' não está no tipo de dado desejado (float64).\n",
      "A coluna 'Acumulado 15 acertos' não está no tipo de dado desejado (float64).\n",
      "A coluna 'Arrecadacao Total' não está no tipo de dado desejado (float64).\n",
      "A coluna 'Estimativa Prêmio' não está no tipo de dado desejado (float64).\n",
      "A coluna 'Acumulado sorteio especial Lotofácil da Independência' não está no tipo de dado desejado (float64).\n"
     ]
    }
   ],
   "source": [
    "verificar_tipos_de_dados(df)\n"
   ]
  },
  {
   "cell_type": "markdown",
   "metadata": {},
   "source": [
    "* Após a execução da função `verificar_tipos_de_dados` é possivel identificar as colunas que necessitam da transformação do tipo de dado;\n",
    "* Talvez exista a necessidade de algum tipo de tratamento previo como remoção de carácteres para a transformação"
   ]
  },
  {
   "cell_type": "markdown",
   "metadata": {},
   "source": [
    "### 2.2 Concurso"
   ]
  },
  {
   "cell_type": "markdown",
   "metadata": {},
   "source": [
    "* A variável `Concurso` pode ser definida como a chave primária"
   ]
  },
  {
   "cell_type": "code",
   "execution_count": 48,
   "metadata": {},
   "outputs": [
    {
     "data": {
      "text/html": [
       "<div>\n",
       "<style scoped>\n",
       "    .dataframe tbody tr th:only-of-type {\n",
       "        vertical-align: middle;\n",
       "    }\n",
       "\n",
       "    .dataframe tbody tr th {\n",
       "        vertical-align: top;\n",
       "    }\n",
       "\n",
       "    .dataframe thead th {\n",
       "        text-align: right;\n",
       "    }\n",
       "</style>\n",
       "<table border=\"1\" class=\"dataframe\">\n",
       "  <thead>\n",
       "    <tr style=\"text-align: right;\">\n",
       "      <th></th>\n",
       "      <th>Concurso</th>\n",
       "    </tr>\n",
       "  </thead>\n",
       "  <tbody>\n",
       "    <tr>\n",
       "      <th>0</th>\n",
       "      <td>1</td>\n",
       "    </tr>\n",
       "    <tr>\n",
       "      <th>1</th>\n",
       "      <td>2</td>\n",
       "    </tr>\n",
       "  </tbody>\n",
       "</table>\n",
       "</div>"
      ],
      "text/plain": [
       "   Concurso\n",
       "0         1\n",
       "1         2"
      ]
     },
     "execution_count": 48,
     "metadata": {},
     "output_type": "execute_result"
    }
   ],
   "source": [
    "df[[\"Concurso\"]].head(2)"
   ]
  },
  {
   "cell_type": "code",
   "execution_count": 49,
   "metadata": {},
   "outputs": [
    {
     "data": {
      "text/plain": [
       "True"
      ]
     },
     "execution_count": 49,
     "metadata": {},
     "output_type": "execute_result"
    }
   ],
   "source": [
    "# Verificando se a quantidade de valores únicos em Concursos é igual a quantidade de linhas do nosso dataframe\n",
    "len(set(df[\"Concurso\"])) == df.shape[0]"
   ]
  },
  {
   "cell_type": "code",
   "execution_count": 50,
   "metadata": {},
   "outputs": [
    {
     "data": {
      "text/plain": [
       "True"
      ]
     },
     "execution_count": 50,
     "metadata": {},
     "output_type": "execute_result"
    }
   ],
   "source": [
    "# Verificando se a quantidade de valores únicos em Concursos é igual ao valor máximo em Concurso\n",
    "len(set(df[\"Concurso\"])) == df.Concurso.max()"
   ]
  },
  {
   "cell_type": "markdown",
   "metadata": {},
   "source": [
    "### 2.3 Data sorteio"
   ]
  },
  {
   "cell_type": "code",
   "execution_count": 51,
   "metadata": {},
   "outputs": [
    {
     "data": {
      "text/html": [
       "<div>\n",
       "<style scoped>\n",
       "    .dataframe tbody tr th:only-of-type {\n",
       "        vertical-align: middle;\n",
       "    }\n",
       "\n",
       "    .dataframe tbody tr th {\n",
       "        vertical-align: top;\n",
       "    }\n",
       "\n",
       "    .dataframe thead th {\n",
       "        text-align: right;\n",
       "    }\n",
       "</style>\n",
       "<table border=\"1\" class=\"dataframe\">\n",
       "  <thead>\n",
       "    <tr style=\"text-align: right;\">\n",
       "      <th></th>\n",
       "      <th>Data Sorteio</th>\n",
       "    </tr>\n",
       "  </thead>\n",
       "  <tbody>\n",
       "    <tr>\n",
       "      <th>0</th>\n",
       "      <td>29/09/2003</td>\n",
       "    </tr>\n",
       "    <tr>\n",
       "      <th>1</th>\n",
       "      <td>06/10/2003</td>\n",
       "    </tr>\n",
       "  </tbody>\n",
       "</table>\n",
       "</div>"
      ],
      "text/plain": [
       "  Data Sorteio\n",
       "0   29/09/2003\n",
       "1   06/10/2003"
      ]
     },
     "execution_count": 51,
     "metadata": {},
     "output_type": "execute_result"
    }
   ],
   "source": [
    "df[[\"Data Sorteio\"]].head(2)"
   ]
  },
  {
   "cell_type": "markdown",
   "metadata": {},
   "source": [
    "A função `verifica_data` foi criada para verificar se o formato da data esta dentro do padrão dd/mm/yyyy\n",
    "\n",
    "Caso encontre algum dado fora do padrão retorna o index que encontrou a divergencia:\n"
   ]
  },
  {
   "cell_type": "code",
   "execution_count": 52,
   "metadata": {},
   "outputs": [
    {
     "name": "stdout",
     "output_type": "stream",
     "text": [
      "\n",
      "Formato da data esta dentro padrão: dd/mm/yyyy\n"
     ]
    }
   ],
   "source": [
    "verifica_data(df, \"Data Sorteio\")"
   ]
  },
  {
   "cell_type": "code",
   "execution_count": 53,
   "metadata": {},
   "outputs": [
    {
     "data": {
      "text/plain": [
       "Data Sorteio    object\n",
       "dtype: object"
      ]
     },
     "execution_count": 53,
     "metadata": {},
     "output_type": "execute_result"
    }
   ],
   "source": [
    "df[[\"Data Sorteio\"]].dtypes"
   ]
  },
  {
   "cell_type": "markdown",
   "metadata": {},
   "source": [
    "* É necessário efetuar a transformação para um tipo data"
   ]
  },
  {
   "cell_type": "markdown",
   "metadata": {},
   "source": [
    "### 2.4 Bolas sorteadas"
   ]
  },
  {
   "cell_type": "code",
   "execution_count": 54,
   "metadata": {},
   "outputs": [],
   "source": [
    "# Lista de colunas de bolas sorteadas\n",
    "bolas_cols = ['Bola1', 'Bola2', 'Bola3', 'Bola4', 'Bola5','Bola6', 'Bola7', 'Bola8', \n",
    "              'Bola9', 'Bola10', 'Bola11', 'Bola12','Bola13', 'Bola14', 'Bola15']"
   ]
  },
  {
   "cell_type": "code",
   "execution_count": 55,
   "metadata": {},
   "outputs": [
    {
     "data": {
      "text/html": [
       "<div>\n",
       "<style scoped>\n",
       "    .dataframe tbody tr th:only-of-type {\n",
       "        vertical-align: middle;\n",
       "    }\n",
       "\n",
       "    .dataframe tbody tr th {\n",
       "        vertical-align: top;\n",
       "    }\n",
       "\n",
       "    .dataframe thead th {\n",
       "        text-align: right;\n",
       "    }\n",
       "</style>\n",
       "<table border=\"1\" class=\"dataframe\">\n",
       "  <thead>\n",
       "    <tr style=\"text-align: right;\">\n",
       "      <th></th>\n",
       "      <th>Bola1</th>\n",
       "      <th>Bola2</th>\n",
       "      <th>Bola3</th>\n",
       "      <th>Bola4</th>\n",
       "      <th>Bola5</th>\n",
       "      <th>Bola6</th>\n",
       "      <th>Bola7</th>\n",
       "      <th>Bola8</th>\n",
       "      <th>Bola9</th>\n",
       "      <th>Bola10</th>\n",
       "      <th>Bola11</th>\n",
       "      <th>Bola12</th>\n",
       "      <th>Bola13</th>\n",
       "      <th>Bola14</th>\n",
       "      <th>Bola15</th>\n",
       "    </tr>\n",
       "  </thead>\n",
       "  <tbody>\n",
       "    <tr>\n",
       "      <th>0</th>\n",
       "      <td>2</td>\n",
       "      <td>3</td>\n",
       "      <td>5</td>\n",
       "      <td>6</td>\n",
       "      <td>9</td>\n",
       "      <td>10</td>\n",
       "      <td>11</td>\n",
       "      <td>13</td>\n",
       "      <td>14</td>\n",
       "      <td>16</td>\n",
       "      <td>18</td>\n",
       "      <td>20</td>\n",
       "      <td>23</td>\n",
       "      <td>24</td>\n",
       "      <td>25</td>\n",
       "    </tr>\n",
       "    <tr>\n",
       "      <th>1</th>\n",
       "      <td>1</td>\n",
       "      <td>4</td>\n",
       "      <td>5</td>\n",
       "      <td>6</td>\n",
       "      <td>7</td>\n",
       "      <td>9</td>\n",
       "      <td>11</td>\n",
       "      <td>12</td>\n",
       "      <td>13</td>\n",
       "      <td>15</td>\n",
       "      <td>16</td>\n",
       "      <td>19</td>\n",
       "      <td>20</td>\n",
       "      <td>23</td>\n",
       "      <td>24</td>\n",
       "    </tr>\n",
       "  </tbody>\n",
       "</table>\n",
       "</div>"
      ],
      "text/plain": [
       "   Bola1  Bola2  Bola3  Bola4  Bola5  Bola6  Bola7  Bola8  Bola9  Bola10  \\\n",
       "0      2      3      5      6      9     10     11     13     14      16   \n",
       "1      1      4      5      6      7      9     11     12     13      15   \n",
       "\n",
       "   Bola11  Bola12  Bola13  Bola14  Bola15  \n",
       "0      18      20      23      24      25  \n",
       "1      16      19      20      23      24  "
      ]
     },
     "execution_count": 55,
     "metadata": {},
     "output_type": "execute_result"
    }
   ],
   "source": [
    "# Exibindo somente o DataFrame contendo os dados das bolas sorteadas\n",
    "df[bolas_cols].head(2)"
   ]
  },
  {
   "cell_type": "code",
   "execution_count": 56,
   "metadata": {},
   "outputs": [
    {
     "name": "stdout",
     "output_type": "stream",
     "text": [
      "Bola1: valores únicos {1, 2, 3, 4, 5, 6, 7}\n",
      "Bola2: valores únicos {2, 3, 4, 5, 6, 7, 8, 9}\n",
      "Bola3: valores únicos {3, 4, 5, 6, 7, 8, 9, 10, 11, 12}\n",
      "Bola4: valores únicos {4, 5, 6, 7, 8, 9, 10, 11, 12, 13}\n",
      "Bola5: valores únicos {5, 6, 7, 8, 9, 10, 11, 12, 13, 14}\n",
      "Bola6: valores únicos {6, 7, 8, 9, 10, 11, 12, 13, 14, 15, 16}\n",
      "Bola7: valores únicos {7, 8, 9, 10, 11, 12, 13, 14, 15, 16, 17}\n",
      "Bola8: valores únicos {8, 9, 10, 11, 12, 13, 14, 15, 16, 17, 18}\n",
      "Bola9: valores únicos {9, 10, 11, 12, 13, 14, 15, 16, 17, 18, 19}\n",
      "Bola10: valores únicos {10, 11, 12, 13, 14, 15, 16, 17, 18, 19, 20}\n",
      "Bola11: valores únicos {12, 13, 14, 15, 16, 17, 18, 19, 20, 21}\n",
      "Bola12: valores únicos {13, 14, 15, 16, 17, 18, 19, 20, 21, 22}\n",
      "Bola13: valores únicos {15, 16, 17, 18, 19, 20, 21, 22, 23}\n",
      "Bola14: valores únicos {17, 18, 19, 20, 21, 22, 23, 24}\n",
      "Bola15: valores únicos {18, 19, 20, 21, 22, 23, 24, 25}\n"
     ]
    }
   ],
   "source": [
    "for col in bolas_cols:\n",
    "    print(f\"{col}: valores únicos {set(df[col])}\")\n"
   ]
  },
  {
   "cell_type": "markdown",
   "metadata": {},
   "source": [
    "* Nota-se que os dados contidas sobre os números das bola sorteadas estão dispostos de forma ordenada do menor valor sorteado para o maior e não por ordem de sorteio."
   ]
  },
  {
   "cell_type": "markdown",
   "metadata": {},
   "source": [
    "**Verificando valores duplicados**"
   ]
  },
  {
   "cell_type": "code",
   "execution_count": 57,
   "metadata": {},
   "outputs": [
    {
     "data": {
      "text/plain": [
       "0"
      ]
     },
     "execution_count": 57,
     "metadata": {},
     "output_type": "execute_result"
    }
   ],
   "source": [
    "df[bolas_cols].duplicated().sum()"
   ]
  },
  {
   "cell_type": "markdown",
   "metadata": {},
   "source": [
    "* Não existem duplicidade de sorteios, todos os resultados são distintos"
   ]
  },
  {
   "cell_type": "markdown",
   "metadata": {},
   "source": [
    "### 2.5 Ganhadores"
   ]
  },
  {
   "cell_type": "code",
   "execution_count": 58,
   "metadata": {},
   "outputs": [],
   "source": [
    "ganhadores_cols = ['Ganhadores 15 acertos','Ganhadores 14 acertos','Ganhadores 13 acertos',\n",
    "                   'Ganhadores 12 acertos','Ganhadores 11 acertos']"
   ]
  },
  {
   "cell_type": "code",
   "execution_count": 59,
   "metadata": {},
   "outputs": [
    {
     "data": {
      "text/html": [
       "<div>\n",
       "<style scoped>\n",
       "    .dataframe tbody tr th:only-of-type {\n",
       "        vertical-align: middle;\n",
       "    }\n",
       "\n",
       "    .dataframe tbody tr th {\n",
       "        vertical-align: top;\n",
       "    }\n",
       "\n",
       "    .dataframe thead th {\n",
       "        text-align: right;\n",
       "    }\n",
       "</style>\n",
       "<table border=\"1\" class=\"dataframe\">\n",
       "  <thead>\n",
       "    <tr style=\"text-align: right;\">\n",
       "      <th></th>\n",
       "      <th>Ganhadores 15 acertos</th>\n",
       "      <th>Ganhadores 14 acertos</th>\n",
       "      <th>Ganhadores 13 acertos</th>\n",
       "      <th>Ganhadores 12 acertos</th>\n",
       "      <th>Ganhadores 11 acertos</th>\n",
       "    </tr>\n",
       "  </thead>\n",
       "  <tbody>\n",
       "    <tr>\n",
       "      <th>0</th>\n",
       "      <td>5</td>\n",
       "      <td>154</td>\n",
       "      <td>4645</td>\n",
       "      <td>48807</td>\n",
       "      <td>257593</td>\n",
       "    </tr>\n",
       "    <tr>\n",
       "      <th>1</th>\n",
       "      <td>1</td>\n",
       "      <td>184</td>\n",
       "      <td>6232</td>\n",
       "      <td>81252</td>\n",
       "      <td>478188</td>\n",
       "    </tr>\n",
       "  </tbody>\n",
       "</table>\n",
       "</div>"
      ],
      "text/plain": [
       "   Ganhadores 15 acertos  Ganhadores 14 acertos  Ganhadores 13 acertos  \\\n",
       "0                      5                    154                   4645   \n",
       "1                      1                    184                   6232   \n",
       "\n",
       "   Ganhadores 12 acertos  Ganhadores 11 acertos  \n",
       "0                  48807                 257593  \n",
       "1                  81252                 478188  "
      ]
     },
     "execution_count": 59,
     "metadata": {},
     "output_type": "execute_result"
    }
   ],
   "source": [
    "df[ganhadores_cols].head(2)"
   ]
  },
  {
   "cell_type": "markdown",
   "metadata": {},
   "source": [
    "**Verificando valores duplicados**"
   ]
  },
  {
   "cell_type": "code",
   "execution_count": 60,
   "metadata": {},
   "outputs": [
    {
     "data": {
      "text/plain": [
       "0"
      ]
     },
     "execution_count": 60,
     "metadata": {},
     "output_type": "execute_result"
    }
   ],
   "source": [
    "df[ganhadores_cols].duplicated().sum()"
   ]
  },
  {
   "cell_type": "markdown",
   "metadata": {},
   "source": [
    "### 2.6 Cidade / UF"
   ]
  },
  {
   "cell_type": "code",
   "execution_count": 61,
   "metadata": {},
   "outputs": [
    {
     "data": {
      "text/html": [
       "<div>\n",
       "<style scoped>\n",
       "    .dataframe tbody tr th:only-of-type {\n",
       "        vertical-align: middle;\n",
       "    }\n",
       "\n",
       "    .dataframe tbody tr th {\n",
       "        vertical-align: top;\n",
       "    }\n",
       "\n",
       "    .dataframe thead th {\n",
       "        text-align: right;\n",
       "    }\n",
       "</style>\n",
       "<table border=\"1\" class=\"dataframe\">\n",
       "  <thead>\n",
       "    <tr style=\"text-align: right;\">\n",
       "      <th></th>\n",
       "      <th>Cidade / UF</th>\n",
       "    </tr>\n",
       "  </thead>\n",
       "  <tbody>\n",
       "    <tr>\n",
       "      <th>0</th>\n",
       "      <td>BA; \\nPR; \\nSP</td>\n",
       "    </tr>\n",
       "    <tr>\n",
       "      <th>1</th>\n",
       "      <td>SP</td>\n",
       "    </tr>\n",
       "    <tr>\n",
       "      <th>2</th>\n",
       "      <td>SP</td>\n",
       "    </tr>\n",
       "    <tr>\n",
       "      <th>3</th>\n",
       "      <td>MT</td>\n",
       "    </tr>\n",
       "    <tr>\n",
       "      <th>4</th>\n",
       "      <td>BA; \\nMS</td>\n",
       "    </tr>\n",
       "    <tr>\n",
       "      <th>...</th>\n",
       "      <td>...</td>\n",
       "    </tr>\n",
       "    <tr>\n",
       "      <th>2889</th>\n",
       "      <td>SALVADOR/BA; ANITAPOLIS/SC</td>\n",
       "    </tr>\n",
       "    <tr>\n",
       "      <th>2890</th>\n",
       "      <td>MACAPA/AP; BRASILIA/DF</td>\n",
       "    </tr>\n",
       "    <tr>\n",
       "      <th>2891</th>\n",
       "      <td>BEQUIMAO/MA; DUQUE DE CAXIAS/RJ</td>\n",
       "    </tr>\n",
       "    <tr>\n",
       "      <th>2892</th>\n",
       "      <td>NaN</td>\n",
       "    </tr>\n",
       "    <tr>\n",
       "      <th>2893</th>\n",
       "      <td>SAO LUIS/MA; SAO PAULO/SP</td>\n",
       "    </tr>\n",
       "  </tbody>\n",
       "</table>\n",
       "<p>2894 rows × 1 columns</p>\n",
       "</div>"
      ],
      "text/plain": [
       "                          Cidade / UF\n",
       "0                      BA; \\nPR; \\nSP\n",
       "1                                  SP\n",
       "2                                  SP\n",
       "3                                  MT\n",
       "4                            BA; \\nMS\n",
       "...                               ...\n",
       "2889       SALVADOR/BA; ANITAPOLIS/SC\n",
       "2890           MACAPA/AP; BRASILIA/DF\n",
       "2891  BEQUIMAO/MA; DUQUE DE CAXIAS/RJ\n",
       "2892                              NaN\n",
       "2893        SAO LUIS/MA; SAO PAULO/SP\n",
       "\n",
       "[2894 rows x 1 columns]"
      ]
     },
     "execution_count": 61,
     "metadata": {},
     "output_type": "execute_result"
    }
   ],
   "source": [
    "df[[\"Cidade / UF\"]]"
   ]
  },
  {
   "cell_type": "markdown",
   "metadata": {},
   "source": [
    "* É necessário efetuar a remoção de caracteres especiais e padronizar os dados;\n",
    "* É possivel separar as colunas em duas uma contendo somente os dados do nome da `'Cidades'` e outra os dados do nome da  `'UF'`;\n",
    "* Tambem é necessário preencher os dados nulos"
   ]
  },
  {
   "cell_type": "markdown",
   "metadata": {},
   "source": [
    "### 2.7 Rateios, valores acumulados e arrecadação"
   ]
  },
  {
   "cell_type": "code",
   "execution_count": 62,
   "metadata": {},
   "outputs": [],
   "source": [
    "rateios_cols = [\"Rateio 15 acertos\", \"Rateio 14 acertos\", \"Rateio 13 acertos\", \"Rateio 12 acertos\",\n",
    "                \"Rateio 11 acertos\", \"Acumulado 15 acertos\",\"Arrecadacao Total\", \"Estimativa Prêmio\",\n",
    "                \"Acumulado sorteio especial Lotofácil da Independência\"]"
   ]
  },
  {
   "cell_type": "code",
   "execution_count": 63,
   "metadata": {},
   "outputs": [
    {
     "data": {
      "text/html": [
       "<div>\n",
       "<style scoped>\n",
       "    .dataframe tbody tr th:only-of-type {\n",
       "        vertical-align: middle;\n",
       "    }\n",
       "\n",
       "    .dataframe tbody tr th {\n",
       "        vertical-align: top;\n",
       "    }\n",
       "\n",
       "    .dataframe thead th {\n",
       "        text-align: right;\n",
       "    }\n",
       "</style>\n",
       "<table border=\"1\" class=\"dataframe\">\n",
       "  <thead>\n",
       "    <tr style=\"text-align: right;\">\n",
       "      <th></th>\n",
       "      <th>Rateio 15 acertos</th>\n",
       "      <th>Rateio 14 acertos</th>\n",
       "      <th>Rateio 13 acertos</th>\n",
       "      <th>Rateio 12 acertos</th>\n",
       "      <th>Rateio 11 acertos</th>\n",
       "      <th>Acumulado 15 acertos</th>\n",
       "      <th>Arrecadacao Total</th>\n",
       "      <th>Estimativa Prêmio</th>\n",
       "      <th>Acumulado sorteio especial Lotofácil da Independência</th>\n",
       "    </tr>\n",
       "  </thead>\n",
       "  <tbody>\n",
       "    <tr>\n",
       "      <th>0</th>\n",
       "      <td>R$49.765,82</td>\n",
       "      <td>R$689,84</td>\n",
       "      <td>R$10,00</td>\n",
       "      <td>R$4,00</td>\n",
       "      <td>R$2,00</td>\n",
       "      <td>R$0,00</td>\n",
       "      <td>R$0,00</td>\n",
       "      <td>R$0,00</td>\n",
       "      <td>R$0,00</td>\n",
       "    </tr>\n",
       "    <tr>\n",
       "      <th>1</th>\n",
       "      <td>R$596.323,70</td>\n",
       "      <td>R$1.388,95</td>\n",
       "      <td>R$10,00</td>\n",
       "      <td>R$4,00</td>\n",
       "      <td>R$2,00</td>\n",
       "      <td>R$0,00</td>\n",
       "      <td>R$0,00</td>\n",
       "      <td>R$0,00</td>\n",
       "      <td>R$0,00</td>\n",
       "    </tr>\n",
       "  </tbody>\n",
       "</table>\n",
       "</div>"
      ],
      "text/plain": [
       "  Rateio 15 acertos Rateio 14 acertos Rateio 13 acertos Rateio 12 acertos  \\\n",
       "0       R$49.765,82          R$689,84           R$10,00            R$4,00   \n",
       "1      R$596.323,70        R$1.388,95           R$10,00            R$4,00   \n",
       "\n",
       "  Rateio 11 acertos Acumulado 15 acertos Arrecadacao Total Estimativa Prêmio  \\\n",
       "0            R$2,00               R$0,00            R$0,00            R$0,00   \n",
       "1            R$2,00               R$0,00            R$0,00            R$0,00   \n",
       "\n",
       "  Acumulado sorteio especial Lotofácil da Independência  \n",
       "0                                             R$0,00     \n",
       "1                                             R$0,00     "
      ]
     },
     "execution_count": 63,
     "metadata": {},
     "output_type": "execute_result"
    }
   ],
   "source": [
    "df[rateios_cols].head(2)"
   ]
  },
  {
   "cell_type": "markdown",
   "metadata": {},
   "source": [
    "**Verificando valores duplicados**"
   ]
  },
  {
   "cell_type": "code",
   "execution_count": 64,
   "metadata": {},
   "outputs": [
    {
     "data": {
      "text/plain": [
       "0"
      ]
     },
     "execution_count": 64,
     "metadata": {},
     "output_type": "execute_result"
    }
   ],
   "source": [
    "df[rateios_cols].duplicated().sum()"
   ]
  },
  {
   "cell_type": "markdown",
   "metadata": {},
   "source": [
    "* Os dados estão em formato Object é necessário efetuar a transformação para Float;\n",
    "* É necessário remover os caracteres: `'R$'` e `'.'` para transformar o tipo de dado"
   ]
  },
  {
   "cell_type": "markdown",
   "metadata": {},
   "source": [
    "### 2.8 Observação"
   ]
  },
  {
   "cell_type": "code",
   "execution_count": 65,
   "metadata": {},
   "outputs": [
    {
     "data": {
      "text/html": [
       "<div>\n",
       "<style scoped>\n",
       "    .dataframe tbody tr th:only-of-type {\n",
       "        vertical-align: middle;\n",
       "    }\n",
       "\n",
       "    .dataframe tbody tr th {\n",
       "        vertical-align: top;\n",
       "    }\n",
       "\n",
       "    .dataframe thead th {\n",
       "        text-align: right;\n",
       "    }\n",
       "</style>\n",
       "<table border=\"1\" class=\"dataframe\">\n",
       "  <thead>\n",
       "    <tr style=\"text-align: right;\">\n",
       "      <th></th>\n",
       "      <th>Observação</th>\n",
       "    </tr>\n",
       "  </thead>\n",
       "  <tbody>\n",
       "    <tr>\n",
       "      <th>0</th>\n",
       "      <td>Estimativa de prêmio (15 ACERTOS) próximo conc...</td>\n",
       "    </tr>\n",
       "    <tr>\n",
       "      <th>1</th>\n",
       "      <td>ESTIMATIVA DE PRÊMIO PARA O PRÓXIMO CONCURSO (...</td>\n",
       "    </tr>\n",
       "    <tr>\n",
       "      <th>2</th>\n",
       "      <td>Estimativa de prêmio (15 ACERTOS) próximo conc...</td>\n",
       "    </tr>\n",
       "    <tr>\n",
       "      <th>3</th>\n",
       "      <td>Estimativa de prêmio (15 ACERTOS) próximo conc...</td>\n",
       "    </tr>\n",
       "    <tr>\n",
       "      <th>4</th>\n",
       "      <td>Estimativa de prêmio para o próximo concurso (...</td>\n",
       "    </tr>\n",
       "    <tr>\n",
       "      <th>...</th>\n",
       "      <td>...</td>\n",
       "    </tr>\n",
       "    <tr>\n",
       "      <th>2889</th>\n",
       "      <td>NaN</td>\n",
       "    </tr>\n",
       "    <tr>\n",
       "      <th>2890</th>\n",
       "      <td>NaN</td>\n",
       "    </tr>\n",
       "    <tr>\n",
       "      <th>2891</th>\n",
       "      <td>NaN</td>\n",
       "    </tr>\n",
       "    <tr>\n",
       "      <th>2892</th>\n",
       "      <td>NaN</td>\n",
       "    </tr>\n",
       "    <tr>\n",
       "      <th>2893</th>\n",
       "      <td>NaN</td>\n",
       "    </tr>\n",
       "  </tbody>\n",
       "</table>\n",
       "<p>2894 rows × 1 columns</p>\n",
       "</div>"
      ],
      "text/plain": [
       "                                             Observação\n",
       "0     Estimativa de prêmio (15 ACERTOS) próximo conc...\n",
       "1     ESTIMATIVA DE PRÊMIO PARA O PRÓXIMO CONCURSO (...\n",
       "2     Estimativa de prêmio (15 ACERTOS) próximo conc...\n",
       "3     Estimativa de prêmio (15 ACERTOS) próximo conc...\n",
       "4     Estimativa de prêmio para o próximo concurso (...\n",
       "...                                                 ...\n",
       "2889                                                NaN\n",
       "2890                                                NaN\n",
       "2891                                                NaN\n",
       "2892                                                NaN\n",
       "2893                                                NaN\n",
       "\n",
       "[2894 rows x 1 columns]"
      ]
     },
     "execution_count": 65,
     "metadata": {},
     "output_type": "execute_result"
    }
   ],
   "source": [
    "df[[\"Observação\"]]"
   ]
  },
  {
   "cell_type": "code",
   "execution_count": 66,
   "metadata": {},
   "outputs": [
    {
     "data": {
      "text/html": [
       "<div>\n",
       "<style scoped>\n",
       "    .dataframe tbody tr th:only-of-type {\n",
       "        vertical-align: middle;\n",
       "    }\n",
       "\n",
       "    .dataframe tbody tr th {\n",
       "        vertical-align: top;\n",
       "    }\n",
       "\n",
       "    .dataframe thead th {\n",
       "        text-align: right;\n",
       "    }\n",
       "</style>\n",
       "<table border=\"1\" class=\"dataframe\">\n",
       "  <thead>\n",
       "    <tr style=\"text-align: right;\">\n",
       "      <th></th>\n",
       "      <th>Cidade / UF</th>\n",
       "      <th>Observação</th>\n",
       "    </tr>\n",
       "  </thead>\n",
       "  <tbody>\n",
       "    <tr>\n",
       "      <th>379</th>\n",
       "      <td>MG</td>\n",
       "      <td>GANHADOR DE 15 ACERTOS: BELO HORIZONTE/MG</td>\n",
       "    </tr>\n",
       "  </tbody>\n",
       "</table>\n",
       "</div>"
      ],
      "text/plain": [
       "    Cidade / UF                                 Observação\n",
       "379          MG  GANHADOR DE 15 ACERTOS: BELO HORIZONTE/MG"
      ]
     },
     "execution_count": 66,
     "metadata": {},
     "output_type": "execute_result"
    }
   ],
   "source": [
    "df[df[\"Observação\"] == 'GANHADOR DE 15 ACERTOS: BELO HORIZONTE/MG'][[\"Cidade / UF\",\"Observação\"]]"
   ]
  },
  {
   "cell_type": "markdown",
   "metadata": {},
   "source": [
    "* Necessário padronizar os dados, remover caracteres especiais;\n",
    "* Possui informações sobre cidade e UF que podem ser reutilizados para preenchimento de dados ausentes;\n",
    "* Informações sobre valores acumulados e arrecadação para preenchimento de dados ausentes."
   ]
  },
  {
   "cell_type": "markdown",
   "metadata": {},
   "source": [
    "## 3 - Tratamento de dados 👷"
   ]
  },
  {
   "cell_type": "markdown",
   "metadata": {},
   "source": [
    "### 3.1 Tratamento Data Sorteio"
   ]
  },
  {
   "cell_type": "markdown",
   "metadata": {},
   "source": [
    "A função `'transform_data_type'` faz a transformação do dado para um tipo: datetime64[ns], a função também verifica se a transformação foi bem sucedida\n",
    "\n"
   ]
  },
  {
   "cell_type": "code",
   "execution_count": 67,
   "metadata": {},
   "outputs": [
    {
     "name": "stdout",
     "output_type": "stream",
     "text": [
      "A transformação para data foi bem-sucedida.\n"
     ]
    }
   ],
   "source": [
    "transform_data_type(df)"
   ]
  },
  {
   "cell_type": "markdown",
   "metadata": {},
   "source": [
    "### 3.2 Tratamento Cidade / UF"
   ]
  },
  {
   "cell_type": "markdown",
   "metadata": {},
   "source": [
    "A função `'dividir_cidade_uf'` faz a separação dos dados das cidade e UFs em **valores únicos**, caso o valor for nulo/ausente ele incluira o valor `NAO ESPECIFICADO`.\n",
    "\n",
    "A solução também faz a remoção de caracteres especiais e transforma todos os dados em maiúsculos"
   ]
  },
  {
   "cell_type": "markdown",
   "metadata": {},
   "source": [
    "* A solução implementada talvez não seja a melhor solução, pois existe uma perda de informação nesta transformação, desta forma não é possivel especificar quantas apostas foram premiadas por cidade ou UF em um único sorteio;\n",
    "* Outra solução pensada seria criar mais uma coluna possuindo um contador de apostas premiadas por cidade/uf, porem esta solução ainda esta em desenvolvimento.\n",
    "* Para o desenvolvimento deste tipo de transformação seria necessário entrar em contato com as partes interessadas para alinhar qual solução seria mais interessante.\n",
    " "
   ]
  },
  {
   "cell_type": "code",
   "execution_count": 68,
   "metadata": {},
   "outputs": [],
   "source": [
    "# Adcionando as duas colunas ao DataFrame contendo os dados separados por cidade e UF\n",
    "df[['Cidade', 'UF']]  = df['Cidade / UF'].apply(dividir_cidade_uf)"
   ]
  },
  {
   "cell_type": "code",
   "execution_count": 69,
   "metadata": {},
   "outputs": [
    {
     "data": {
      "text/html": [
       "<div>\n",
       "<style scoped>\n",
       "    .dataframe tbody tr th:only-of-type {\n",
       "        vertical-align: middle;\n",
       "    }\n",
       "\n",
       "    .dataframe tbody tr th {\n",
       "        vertical-align: top;\n",
       "    }\n",
       "\n",
       "    .dataframe thead th {\n",
       "        text-align: right;\n",
       "    }\n",
       "</style>\n",
       "<table border=\"1\" class=\"dataframe\">\n",
       "  <thead>\n",
       "    <tr style=\"text-align: right;\">\n",
       "      <th></th>\n",
       "      <th>Cidade</th>\n",
       "      <th>UF</th>\n",
       "    </tr>\n",
       "  </thead>\n",
       "  <tbody>\n",
       "    <tr>\n",
       "      <th>0</th>\n",
       "      <td>CIDADE NAO ESPECIFICADA</td>\n",
       "      <td>PR, SP, BA</td>\n",
       "    </tr>\n",
       "    <tr>\n",
       "      <th>1</th>\n",
       "      <td>CIDADE NAO ESPECIFICADA</td>\n",
       "      <td>SP</td>\n",
       "    </tr>\n",
       "    <tr>\n",
       "      <th>2</th>\n",
       "      <td>CIDADE NAO ESPECIFICADA</td>\n",
       "      <td>SP</td>\n",
       "    </tr>\n",
       "    <tr>\n",
       "      <th>3</th>\n",
       "      <td>CIDADE NAO ESPECIFICADA</td>\n",
       "      <td>MT</td>\n",
       "    </tr>\n",
       "    <tr>\n",
       "      <th>4</th>\n",
       "      <td>CIDADE NAO ESPECIFICADA</td>\n",
       "      <td>MS, BA</td>\n",
       "    </tr>\n",
       "    <tr>\n",
       "      <th>...</th>\n",
       "      <td>...</td>\n",
       "      <td>...</td>\n",
       "    </tr>\n",
       "    <tr>\n",
       "      <th>2889</th>\n",
       "      <td>SALVADOR, ANITAPOLIS</td>\n",
       "      <td>SC, BA</td>\n",
       "    </tr>\n",
       "    <tr>\n",
       "      <th>2890</th>\n",
       "      <td>MACAPA, BRASILIA</td>\n",
       "      <td>DF, AP</td>\n",
       "    </tr>\n",
       "    <tr>\n",
       "      <th>2891</th>\n",
       "      <td>BEQUIMAO, DUQUE DE CAXIAS</td>\n",
       "      <td>RJ, MA</td>\n",
       "    </tr>\n",
       "    <tr>\n",
       "      <th>2892</th>\n",
       "      <td>CIDADE NAO ESPECIFICADA</td>\n",
       "      <td>UF NAO ESPECIFICADA</td>\n",
       "    </tr>\n",
       "    <tr>\n",
       "      <th>2893</th>\n",
       "      <td>SAO LUIS, SAO PAULO</td>\n",
       "      <td>SP, MA</td>\n",
       "    </tr>\n",
       "  </tbody>\n",
       "</table>\n",
       "<p>2894 rows × 2 columns</p>\n",
       "</div>"
      ],
      "text/plain": [
       "                         Cidade                   UF\n",
       "0       CIDADE NAO ESPECIFICADA           PR, SP, BA\n",
       "1       CIDADE NAO ESPECIFICADA                   SP\n",
       "2       CIDADE NAO ESPECIFICADA                   SP\n",
       "3       CIDADE NAO ESPECIFICADA                   MT\n",
       "4       CIDADE NAO ESPECIFICADA               MS, BA\n",
       "...                         ...                  ...\n",
       "2889       SALVADOR, ANITAPOLIS               SC, BA\n",
       "2890           MACAPA, BRASILIA               DF, AP\n",
       "2891  BEQUIMAO, DUQUE DE CAXIAS               RJ, MA\n",
       "2892    CIDADE NAO ESPECIFICADA  UF NAO ESPECIFICADA\n",
       "2893        SAO LUIS, SAO PAULO               SP, MA\n",
       "\n",
       "[2894 rows x 2 columns]"
      ]
     },
     "execution_count": 69,
     "metadata": {},
     "output_type": "execute_result"
    }
   ],
   "source": [
    "df[['Cidade', 'UF']]"
   ]
  },
  {
   "cell_type": "markdown",
   "metadata": {},
   "source": [
    "**Remoção da coluna Cidade / UF após tratamento**"
   ]
  },
  {
   "cell_type": "code",
   "execution_count": 70,
   "metadata": {},
   "outputs": [],
   "source": [
    "# Remoção do conjunto de dados originais `Cidade / UF` após a transformação\n",
    "df = df.drop(\"Cidade / UF\", axis = 1)"
   ]
  },
  {
   "cell_type": "markdown",
   "metadata": {},
   "source": [
    "### 3.3 Tratamento das colunas correspondetes ao rateios, valores acumulados e arrecação"
   ]
  },
  {
   "cell_type": "markdown",
   "metadata": {},
   "source": [
    "* A função `remove_cifrao` remove o `'R$'` presente nos dados corresponde aos valores;\n",
    "* Após a remoção converte o valor para float;\n",
    "* Caso não consiga efetuar a transformação exibe a mensagem de erro identificando a coluna que não foi possivel efetuar a transformação"
   ]
  },
  {
   "cell_type": "code",
   "execution_count": 71,
   "metadata": {},
   "outputs": [
    {
     "data": {
      "text/plain": [
       "Rateio 15 acertos                                        object\n",
       "Rateio 14 acertos                                        object\n",
       "Rateio 13 acertos                                        object\n",
       "Rateio 12 acertos                                        object\n",
       "Rateio 11 acertos                                        object\n",
       "Acumulado 15 acertos                                     object\n",
       "Arrecadacao Total                                        object\n",
       "Estimativa Prêmio                                        object\n",
       "Acumulado sorteio especial Lotofácil da Independência    object\n",
       "dtype: object"
      ]
     },
     "execution_count": 71,
     "metadata": {},
     "output_type": "execute_result"
    }
   ],
   "source": [
    "df[rateios_cols].dtypes"
   ]
  },
  {
   "cell_type": "code",
   "execution_count": 72,
   "metadata": {},
   "outputs": [
    {
     "data": {
      "text/html": [
       "<div>\n",
       "<style scoped>\n",
       "    .dataframe tbody tr th:only-of-type {\n",
       "        vertical-align: middle;\n",
       "    }\n",
       "\n",
       "    .dataframe tbody tr th {\n",
       "        vertical-align: top;\n",
       "    }\n",
       "\n",
       "    .dataframe thead th {\n",
       "        text-align: right;\n",
       "    }\n",
       "</style>\n",
       "<table border=\"1\" class=\"dataframe\">\n",
       "  <thead>\n",
       "    <tr style=\"text-align: right;\">\n",
       "      <th></th>\n",
       "      <th>Rateio 15 acertos</th>\n",
       "      <th>Rateio 14 acertos</th>\n",
       "      <th>Rateio 13 acertos</th>\n",
       "      <th>Rateio 12 acertos</th>\n",
       "      <th>Rateio 11 acertos</th>\n",
       "      <th>Acumulado 15 acertos</th>\n",
       "      <th>Arrecadacao Total</th>\n",
       "      <th>Estimativa Prêmio</th>\n",
       "      <th>Acumulado sorteio especial Lotofácil da Independência</th>\n",
       "    </tr>\n",
       "  </thead>\n",
       "  <tbody>\n",
       "    <tr>\n",
       "      <th>0</th>\n",
       "      <td>49765.82</td>\n",
       "      <td>689.84</td>\n",
       "      <td>10.0</td>\n",
       "      <td>4.0</td>\n",
       "      <td>2.0</td>\n",
       "      <td>0.0</td>\n",
       "      <td>0.0</td>\n",
       "      <td>0.0</td>\n",
       "      <td>0.0</td>\n",
       "    </tr>\n",
       "    <tr>\n",
       "      <th>1</th>\n",
       "      <td>596323.70</td>\n",
       "      <td>1388.95</td>\n",
       "      <td>10.0</td>\n",
       "      <td>4.0</td>\n",
       "      <td>2.0</td>\n",
       "      <td>0.0</td>\n",
       "      <td>0.0</td>\n",
       "      <td>0.0</td>\n",
       "      <td>0.0</td>\n",
       "    </tr>\n",
       "  </tbody>\n",
       "</table>\n",
       "</div>"
      ],
      "text/plain": [
       "   Rateio 15 acertos  Rateio 14 acertos  Rateio 13 acertos  Rateio 12 acertos  \\\n",
       "0           49765.82             689.84               10.0                4.0   \n",
       "1          596323.70            1388.95               10.0                4.0   \n",
       "\n",
       "   Rateio 11 acertos  Acumulado 15 acertos  Arrecadacao Total  \\\n",
       "0                2.0                   0.0                0.0   \n",
       "1                2.0                   0.0                0.0   \n",
       "\n",
       "   Estimativa Prêmio  Acumulado sorteio especial Lotofácil da Independência  \n",
       "0                0.0                                                0.0      \n",
       "1                0.0                                                0.0      "
      ]
     },
     "execution_count": 72,
     "metadata": {},
     "output_type": "execute_result"
    }
   ],
   "source": [
    "df = remove_cifrao(df, rateios_cols)\n",
    "df[rateios_cols].head(2)"
   ]
  },
  {
   "cell_type": "code",
   "execution_count": 73,
   "metadata": {},
   "outputs": [
    {
     "data": {
      "text/plain": [
       "Rateio 15 acertos                                        float64\n",
       "Rateio 14 acertos                                        float64\n",
       "Rateio 13 acertos                                        float64\n",
       "Rateio 12 acertos                                        float64\n",
       "Rateio 11 acertos                                        float64\n",
       "Acumulado 15 acertos                                     float64\n",
       "Arrecadacao Total                                        float64\n",
       "Estimativa Prêmio                                        float64\n",
       "Acumulado sorteio especial Lotofácil da Independência    float64\n",
       "dtype: object"
      ]
     },
     "execution_count": 73,
     "metadata": {},
     "output_type": "execute_result"
    }
   ],
   "source": [
    "df[rateios_cols].dtypes"
   ]
  },
  {
   "cell_type": "markdown",
   "metadata": {},
   "source": [
    "### 3.4 Tratamento de observações e enriquecimento de dados"
   ]
  },
  {
   "cell_type": "markdown",
   "metadata": {},
   "source": [
    "* A solução para tratamento/enriquecimento de dados seria utilizar um regex para categorizar as observações da seguinte maneira:"
   ]
  },
  {
   "cell_type": "markdown",
   "metadata": {},
   "source": [
    "|Tipo observação  | código da observação|\n",
    "|:---------------:|:-------------------:|\n",
    "| Acumulou        |          1          |\n",
    "| Postergou       |          2          |\n",
    "| Dados da cidade |          3          |\n",
    "| Dados ganhador  |          4          |\n"
   ]
  },
  {
   "cell_type": "markdown",
   "metadata": {},
   "source": [
    "* Foi criado a função `categorize_observacao` que faz justamente esta classificação;"
   ]
  },
  {
   "cell_type": "markdown",
   "metadata": {},
   "source": [
    "* Criando uma nova coluna chamada `Observacao_code` no conjunto de dados contendo esta classificação pode facilitar\n",
    "    - A filtragem de dados;\n",
    "    - Identificação de anomalias;\n",
    "    - identificação de dados dos ganhadores como cidade e UFs para preenchimento de campos nulos no rawdata e classificados anteriormente como não especificado;\n",
    "    - Melhoria geral na compreensão do conjunto de dados.\n",
    "\n",
    "* Nesta versão é necessário aprimorar esta classificação via regex, mas com o amadurecimento desta classificão/código, criando mais categorias é possivel rodar um modelo de machine learning supervisinado/semi supervisionado para classificar dados futuros."
   ]
  },
  {
   "cell_type": "code",
   "execution_count": 74,
   "metadata": {},
   "outputs": [],
   "source": [
    "df = categorize_observacao(df)"
   ]
  },
  {
   "cell_type": "code",
   "execution_count": 75,
   "metadata": {},
   "outputs": [
    {
     "data": {
      "text/html": [
       "<div>\n",
       "<style scoped>\n",
       "    .dataframe tbody tr th:only-of-type {\n",
       "        vertical-align: middle;\n",
       "    }\n",
       "\n",
       "    .dataframe tbody tr th {\n",
       "        vertical-align: top;\n",
       "    }\n",
       "\n",
       "    .dataframe thead th {\n",
       "        text-align: right;\n",
       "    }\n",
       "</style>\n",
       "<table border=\"1\" class=\"dataframe\">\n",
       "  <thead>\n",
       "    <tr style=\"text-align: right;\">\n",
       "      <th></th>\n",
       "      <th>Concurso</th>\n",
       "      <th>Data Sorteio</th>\n",
       "      <th>Bola1</th>\n",
       "      <th>Bola2</th>\n",
       "      <th>Bola3</th>\n",
       "      <th>Bola4</th>\n",
       "      <th>Bola5</th>\n",
       "      <th>Bola6</th>\n",
       "      <th>Bola7</th>\n",
       "      <th>Bola8</th>\n",
       "      <th>Bola9</th>\n",
       "      <th>Bola10</th>\n",
       "      <th>Bola11</th>\n",
       "      <th>Bola12</th>\n",
       "      <th>Bola13</th>\n",
       "      <th>Bola14</th>\n",
       "      <th>Bola15</th>\n",
       "      <th>Ganhadores 15 acertos</th>\n",
       "      <th>Rateio 15 acertos</th>\n",
       "      <th>Ganhadores 14 acertos</th>\n",
       "      <th>Rateio 14 acertos</th>\n",
       "      <th>Ganhadores 13 acertos</th>\n",
       "      <th>Rateio 13 acertos</th>\n",
       "      <th>Ganhadores 12 acertos</th>\n",
       "      <th>Rateio 12 acertos</th>\n",
       "      <th>Ganhadores 11 acertos</th>\n",
       "      <th>Rateio 11 acertos</th>\n",
       "      <th>Acumulado 15 acertos</th>\n",
       "      <th>Arrecadacao Total</th>\n",
       "      <th>Estimativa Prêmio</th>\n",
       "      <th>Acumulado sorteio especial Lotofácil da Independência</th>\n",
       "      <th>Observação</th>\n",
       "      <th>Cidade</th>\n",
       "      <th>UF</th>\n",
       "      <th>Observacao_code</th>\n",
       "    </tr>\n",
       "  </thead>\n",
       "  <tbody>\n",
       "    <tr>\n",
       "      <th>0</th>\n",
       "      <td>1</td>\n",
       "      <td>2003-09-29</td>\n",
       "      <td>2</td>\n",
       "      <td>3</td>\n",
       "      <td>5</td>\n",
       "      <td>6</td>\n",
       "      <td>9</td>\n",
       "      <td>10</td>\n",
       "      <td>11</td>\n",
       "      <td>13</td>\n",
       "      <td>14</td>\n",
       "      <td>16</td>\n",
       "      <td>18</td>\n",
       "      <td>20</td>\n",
       "      <td>23</td>\n",
       "      <td>24</td>\n",
       "      <td>25</td>\n",
       "      <td>5</td>\n",
       "      <td>49765.82</td>\n",
       "      <td>154</td>\n",
       "      <td>689.84</td>\n",
       "      <td>4645</td>\n",
       "      <td>10.0</td>\n",
       "      <td>48807</td>\n",
       "      <td>4.0</td>\n",
       "      <td>257593</td>\n",
       "      <td>2.0</td>\n",
       "      <td>0.0</td>\n",
       "      <td>0.0</td>\n",
       "      <td>0.0</td>\n",
       "      <td>0.0</td>\n",
       "      <td>Estimativa de prêmio (15 ACERTOS) próximo conc...</td>\n",
       "      <td>CIDADE NAO ESPECIFICADA</td>\n",
       "      <td>PR, SP, BA</td>\n",
       "      <td>0</td>\n",
       "    </tr>\n",
       "    <tr>\n",
       "      <th>1</th>\n",
       "      <td>2</td>\n",
       "      <td>2003-10-06</td>\n",
       "      <td>1</td>\n",
       "      <td>4</td>\n",
       "      <td>5</td>\n",
       "      <td>6</td>\n",
       "      <td>7</td>\n",
       "      <td>9</td>\n",
       "      <td>11</td>\n",
       "      <td>12</td>\n",
       "      <td>13</td>\n",
       "      <td>15</td>\n",
       "      <td>16</td>\n",
       "      <td>19</td>\n",
       "      <td>20</td>\n",
       "      <td>23</td>\n",
       "      <td>24</td>\n",
       "      <td>1</td>\n",
       "      <td>596323.70</td>\n",
       "      <td>184</td>\n",
       "      <td>1388.95</td>\n",
       "      <td>6232</td>\n",
       "      <td>10.0</td>\n",
       "      <td>81252</td>\n",
       "      <td>4.0</td>\n",
       "      <td>478188</td>\n",
       "      <td>2.0</td>\n",
       "      <td>0.0</td>\n",
       "      <td>0.0</td>\n",
       "      <td>0.0</td>\n",
       "      <td>0.0</td>\n",
       "      <td>ESTIMATIVA DE PRÊMIO PARA O PRÓXIMO CONCURSO (...</td>\n",
       "      <td>CIDADE NAO ESPECIFICADA</td>\n",
       "      <td>SP</td>\n",
       "      <td>0</td>\n",
       "    </tr>\n",
       "  </tbody>\n",
       "</table>\n",
       "</div>"
      ],
      "text/plain": [
       "   Concurso Data Sorteio  Bola1  Bola2  Bola3  Bola4  Bola5  Bola6  Bola7  \\\n",
       "0         1   2003-09-29      2      3      5      6      9     10     11   \n",
       "1         2   2003-10-06      1      4      5      6      7      9     11   \n",
       "\n",
       "   Bola8  Bola9  Bola10  Bola11  Bola12  Bola13  Bola14  Bola15  \\\n",
       "0     13     14      16      18      20      23      24      25   \n",
       "1     12     13      15      16      19      20      23      24   \n",
       "\n",
       "   Ganhadores 15 acertos  Rateio 15 acertos  Ganhadores 14 acertos  \\\n",
       "0                      5           49765.82                    154   \n",
       "1                      1          596323.70                    184   \n",
       "\n",
       "   Rateio 14 acertos  Ganhadores 13 acertos  Rateio 13 acertos  \\\n",
       "0             689.84                   4645               10.0   \n",
       "1            1388.95                   6232               10.0   \n",
       "\n",
       "   Ganhadores 12 acertos  Rateio 12 acertos  Ganhadores 11 acertos  \\\n",
       "0                  48807                4.0                 257593   \n",
       "1                  81252                4.0                 478188   \n",
       "\n",
       "   Rateio 11 acertos  Acumulado 15 acertos  Arrecadacao Total  \\\n",
       "0                2.0                   0.0                0.0   \n",
       "1                2.0                   0.0                0.0   \n",
       "\n",
       "   Estimativa Prêmio  Acumulado sorteio especial Lotofácil da Independência  \\\n",
       "0                0.0                                                0.0       \n",
       "1                0.0                                                0.0       \n",
       "\n",
       "                                          Observação                   Cidade  \\\n",
       "0  Estimativa de prêmio (15 ACERTOS) próximo conc...  CIDADE NAO ESPECIFICADA   \n",
       "1  ESTIMATIVA DE PRÊMIO PARA O PRÓXIMO CONCURSO (...  CIDADE NAO ESPECIFICADA   \n",
       "\n",
       "           UF  Observacao_code  \n",
       "0  PR, SP, BA                0  \n",
       "1          SP                0  "
      ]
     },
     "execution_count": 75,
     "metadata": {},
     "output_type": "execute_result"
    }
   ],
   "source": [
    "df.head(2)"
   ]
  },
  {
   "cell_type": "code",
   "execution_count": 76,
   "metadata": {},
   "outputs": [
    {
     "data": {
      "application/vnd.jupyter.widget-view+json": {
       "model_id": "5a50b16ce05e45b28aae341e9f220c93",
       "version_major": 2,
       "version_minor": 0
      },
      "text/plain": [
       "interactive(children=(Dropdown(description='cat_observacao', options=(0, 1, 2, 3, 4), value=0), Output()), _do…"
      ]
     },
     "metadata": {},
     "output_type": "display_data"
    }
   ],
   "source": [
    "@interact(cat_observacao = set(df.Observacao_code))\n",
    "def slice_df(cat_observacao):\n",
    "    return df[df.Observacao_code == cat_observacao]"
   ]
  },
  {
   "cell_type": "markdown",
   "metadata": {},
   "source": [
    "## 4 - Modelagem de Dados:"
   ]
  },
  {
   "cell_type": "code",
   "execution_count": 77,
   "metadata": {},
   "outputs": [],
   "source": [
    "# Conectar ao banco de dados\n",
    "conn = sqlite3.connect('PotatoCore.db')\n",
    "cursor = conn.cursor()\n",
    "\n",
    "# Criar tabela de ganhadores_lotofacil\n",
    "cursor.execute('''\n",
    "    CREATE TABLE IF NOT EXISTS ganhadores_lotofacil (\n",
    "        id INTEGER PRIMARY KEY,\n",
    "        concurso_id INTEGER NOT NULL,\n",
    "        ganhadores_15 INTEGER,\n",
    "        ganhadores_14 INTEGER,\n",
    "        ganhadores_13 INTEGER,\n",
    "        ganhadores_12 INTEGER,\n",
    "        ganhadores_11 INTEGER,\n",
    "        cidade TEXT,\n",
    "        uf TEXT,\n",
    "        FOREIGN KEY (concurso_id) REFERENCES concursos_lotofacil (concurso_id)\n",
    "    )\n",
    "''')\n",
    "\n",
    "# Criar tabela de sorteios_lotofacil\n",
    "cursor.execute('''\n",
    "    CREATE TABLE IF NOT EXISTS sorteios_lotofacil (\n",
    "        id INTEGER PRIMARY KEY,\n",
    "        concurso_id INTEGER NOT NULL,\n",
    "        bola1 INTEGER,\n",
    "        bola2 INTEGER,\n",
    "        bola3 INTEGER,\n",
    "        bola4 INTEGER,\n",
    "        bola5 INTEGER,\n",
    "        bola6 INTEGER,\n",
    "        bola7 INTEGER,\n",
    "        bola8 INTEGER,\n",
    "        bola9 INTEGER,\n",
    "        bola10 INTEGER,\n",
    "        bola11 INTEGER,\n",
    "        bola12 INTEGER,\n",
    "        bola13 INTEGER,\n",
    "        bola14 INTEGER,\n",
    "        bola15 INTEGER,\n",
    "        FOREIGN KEY (concurso_id) REFERENCES concursos_lotofacil (concurso_id)\n",
    "    )\n",
    "''')\n",
    "\n",
    "# Criar tabela de concursos_lotofacil\n",
    "cursor.execute('''\n",
    "    CREATE TABLE IF NOT EXISTS concursos_lotofacil (\n",
    "        concurso_id INTEGER PRIMARY KEY,\n",
    "        data_sorteio DATE NOT NULL,\n",
    "        acumulado_15 INTEGER NOT NULL,\n",
    "        rateio_15 REAL,\n",
    "        ganhadores_14 INTEGER NOT NULL,\n",
    "        rateio_14 REAL,\n",
    "        ganhadores_13 INTEGER NOT NULL,\n",
    "        rateio_13 REAL,\n",
    "        ganhadores_12 INTEGER NOT NULL,\n",
    "        rateio_12 REAL,\n",
    "        ganhadores_11 INTEGER NOT NULL,\n",
    "        rateio_11 REAL,\n",
    "        acumulado_especial INTEGER NOT NULL,\n",
    "        arrecadacao_total REAL,\n",
    "        estimativa_premio REAL,\n",
    "        observacao TEXT,\n",
    "        observacao_code INTEGER\n",
    "    )\n",
    "''')\n",
    "\n",
    "# Commit (salvar) as alterações no banco de dados\n",
    "conn.commit()"
   ]
  },
  {
   "cell_type": "markdown",
   "metadata": {},
   "source": [
    "## 5 - Load data PotatoCore.db"
   ]
  },
  {
   "cell_type": "code",
   "execution_count": 78,
   "metadata": {},
   "outputs": [
    {
     "data": {
      "text/plain": [
       "2894"
      ]
     },
     "execution_count": 78,
     "metadata": {},
     "output_type": "execute_result"
    }
   ],
   "source": [
    "# Renomeando colunas do dataframe e copiando para um dataframe copia\n",
    "df_copy_to_load_db = df.rename(columns={\n",
    "                               'Concurso': 'concurso_id',\n",
    "                               'Data Sorteio': 'data_sorteio',\n",
    "                               'Ganhadores 15 acertos': 'ganhadores_15',\n",
    "                               'Rateio 15 acertos': 'rateio_15',\n",
    "                               'Ganhadores 14 acertos': 'ganhadores_14',\n",
    "                               'Rateio 14 acertos': 'rateio_14',\n",
    "                               'Ganhadores 13 acertos': 'ganhadores_13',\n",
    "                               'Rateio 13 acertos': 'rateio_13',\n",
    "                               'Ganhadores 12 acertos': 'ganhadores_12',\n",
    "                               'Rateio 12 acertos': 'rateio_12',\n",
    "                               'Ganhadores 11 acertos': 'ganhadores_11',\n",
    "                               'Rateio 11 acertos': 'rateio_11',\n",
    "                               'Acumulado 15 acertos': 'acumulado_15',\n",
    "                               'Arrecadacao Total': 'arrecadacao_total',\n",
    "                               'Estimativa Prêmio': 'estimativa_premio',\n",
    "                               'Acumulado sorteio especial Lotofácil da Independência': 'acumulado_especial',\n",
    "                               'Observação': 'observacao',\n",
    "                               'Cidade': 'cidade',\n",
    "                               'UF': 'uf',\n",
    "                               'Observacao_code': 'observacao_code'})\n",
    "\n",
    "\n",
    "# Inserir os dados do DataFrame na tabela de concursos_lotofacil\n",
    "df_copy_to_load_db[['concurso_id', 'data_sorteio', 'acumulado_15', 'rateio_15', 'ganhadores_14', 'rateio_14',\n",
    "                    'ganhadores_13', 'rateio_13', 'ganhadores_12', 'rateio_12', 'ganhadores_11', 'rateio_11',\n",
    "                    'acumulado_especial', 'arrecadacao_total', 'estimativa_premio', 'observacao', 'observacao_code']].to_sql('concursos_lotofacil', conn, if_exists='replace', index=False)\n",
    "\n",
    "\n",
    "# Inserir os dados do DataFrame na tabela de ganhadores\n",
    "df_copy_to_load_db[['concurso_id', 'ganhadores_15', 'ganhadores_14', 'ganhadores_13', 'ganhadores_12', 'ganhadores_11', 'cidade', 'uf']].to_sql('ganhadores_lotofacil', conn, if_exists='replace', index=False)\n",
    "\n",
    "# Inserir os dados do DataFrame na tabela de sorteios_lotofacil\n",
    "df_copy_to_load_db[['concurso_id', 'Bola1', 'Bola2', 'Bola3', 'Bola4', 'Bola5', 'Bola6', 'Bola7', 'Bola8', 'Bola9',\n",
    "                    'Bola10', 'Bola11', 'Bola12', 'Bola13', 'Bola14', 'Bola15']].to_sql('sorteios_lotofacil', conn, if_exists='replace', index=False)\n"
   ]
  },
  {
   "cell_type": "code",
   "execution_count": 79,
   "metadata": {},
   "outputs": [
    {
     "data": {
      "text/html": [
       "<div>\n",
       "<style scoped>\n",
       "    .dataframe tbody tr th:only-of-type {\n",
       "        vertical-align: middle;\n",
       "    }\n",
       "\n",
       "    .dataframe tbody tr th {\n",
       "        vertical-align: top;\n",
       "    }\n",
       "\n",
       "    .dataframe thead th {\n",
       "        text-align: right;\n",
       "    }\n",
       "</style>\n",
       "<table border=\"1\" class=\"dataframe\">\n",
       "  <thead>\n",
       "    <tr style=\"text-align: right;\">\n",
       "      <th></th>\n",
       "      <th>concurso_id</th>\n",
       "      <th>data_sorteio</th>\n",
       "      <th>acumulado_15</th>\n",
       "      <th>rateio_15</th>\n",
       "      <th>ganhadores_14</th>\n",
       "      <th>rateio_14</th>\n",
       "      <th>ganhadores_13</th>\n",
       "      <th>rateio_13</th>\n",
       "      <th>ganhadores_12</th>\n",
       "      <th>rateio_12</th>\n",
       "      <th>ganhadores_11</th>\n",
       "      <th>rateio_11</th>\n",
       "      <th>acumulado_especial</th>\n",
       "      <th>arrecadacao_total</th>\n",
       "      <th>estimativa_premio</th>\n",
       "      <th>observacao</th>\n",
       "      <th>observacao_code</th>\n",
       "    </tr>\n",
       "  </thead>\n",
       "  <tbody>\n",
       "    <tr>\n",
       "      <th>0</th>\n",
       "      <td>1</td>\n",
       "      <td>2003-09-29 00:00:00</td>\n",
       "      <td>0.0</td>\n",
       "      <td>49765.82</td>\n",
       "      <td>154</td>\n",
       "      <td>689.84</td>\n",
       "      <td>4645</td>\n",
       "      <td>10.0</td>\n",
       "      <td>48807</td>\n",
       "      <td>4.0</td>\n",
       "      <td>257593</td>\n",
       "      <td>2.0</td>\n",
       "      <td>0.0</td>\n",
       "      <td>0.0</td>\n",
       "      <td>0.0</td>\n",
       "      <td>Estimativa de prêmio (15 ACERTOS) próximo conc...</td>\n",
       "      <td>0</td>\n",
       "    </tr>\n",
       "  </tbody>\n",
       "</table>\n",
       "</div>"
      ],
      "text/plain": [
       "   concurso_id         data_sorteio  acumulado_15  rateio_15  ganhadores_14  \\\n",
       "0            1  2003-09-29 00:00:00           0.0   49765.82            154   \n",
       "\n",
       "   rateio_14  ganhadores_13  rateio_13  ganhadores_12  rateio_12  \\\n",
       "0     689.84           4645       10.0          48807        4.0   \n",
       "\n",
       "   ganhadores_11  rateio_11  acumulado_especial  arrecadacao_total  \\\n",
       "0         257593        2.0                 0.0                0.0   \n",
       "\n",
       "   estimativa_premio                                         observacao  \\\n",
       "0                0.0  Estimativa de prêmio (15 ACERTOS) próximo conc...   \n",
       "\n",
       "   observacao_code  \n",
       "0                0  "
      ]
     },
     "execution_count": 79,
     "metadata": {},
     "output_type": "execute_result"
    }
   ],
   "source": [
    "# Estabelecer uma conexão com o banco de dados existente (PotatoCore.db)\n",
    "conn = sqlite3.connect('PotatoCore.db')\n",
    "\n",
    "# Consulta SQL para carregar os dados da tabela concursos\n",
    "query = \"SELECT * FROM concursos_lotofacil LIMIT 1\"\n",
    "\n",
    "# Carregar os dados da tabela concursos em um DataFrame\n",
    "sql_query = pd.read_sql_query(query, conn)\n",
    "sql_query"
   ]
  },
  {
   "cell_type": "code",
   "execution_count": 80,
   "metadata": {},
   "outputs": [],
   "source": [
    "# Fechar a conexão com o banco de dados\n",
    "conn.close()"
   ]
  },
  {
   "cell_type": "markdown",
   "metadata": {},
   "source": [
    "## 6 - Nexts steps 🎯"
   ]
  },
  {
   "cell_type": "markdown",
   "metadata": {},
   "source": [
    "* Aprimorar o processo de modelagem do database;\n",
    "* Aprimorar a classificação de `Observações`;\n",
    "* Gerar modelo de classificação de `Observações` para otimizar ingestão de dados futuros;\n",
    "* Criar arquivo.py que faz a automação da pipeline de ETL;\n",
    "* Implementar ETL no Airflow utilizando Docker;\n",
    "* Implementar sistema de segurança de maneira robusta no database.\n",
    "  "
   ]
  }
 ],
 "metadata": {
  "kernelspec": {
   "display_name": "base",
   "language": "python",
   "name": "python3"
  },
  "language_info": {
   "codemirror_mode": {
    "name": "ipython",
    "version": 3
   },
   "file_extension": ".py",
   "mimetype": "text/x-python",
   "name": "python",
   "nbconvert_exporter": "python",
   "pygments_lexer": "ipython3",
   "version": "3.10.9"
  },
  "orig_nbformat": 4
 },
 "nbformat": 4,
 "nbformat_minor": 2
}
